{
 "cells": [
  {
   "cell_type": "markdown",
   "metadata": {
    "hide_input": true,
    "nbpresent": {
     "id": "14778e2b-d274-434e-969e-7f87f623eef7"
    }
   },
   "source": [
    "# Dr. Nuhfer's  Data Analysis"
   ]
  },
  {
   "cell_type": "code",
   "execution_count": 1,
   "metadata": {
    "ExecuteTime": {
     "end_time": "2017-04-03T17:30:55.864501Z",
     "start_time": "2017-04-03T21:30:55.777Z"
    },
    "collapsed": true,
    "run_control": {
     "frozen": false,
     "read_only": false
    }
   },
   "outputs": [],
   "source": [
    "options(repr.plot.width=6, repr.plot.height=6)"
   ]
  },
  {
   "cell_type": "markdown",
   "metadata": {},
   "source": [
    "## Introduction "
   ]
  },
  {
   "cell_type": "markdown",
   "metadata": {
    "nbpresent": {
     "id": "75c392f8-0e63-48e8-9165-397b6f1a60c1"
    }
   },
   "source": [
    "\n",
    "Dr. Nuhfer brings us a data set generated from a survey he designed.  You can get the raw data from [here](http://scholarcommons.usf.edu/numeracy/vol10/iss1/art4/).\n",
    "\n",
    "**Survey Deisgn:** It includes a measure of demonstrated competence of science literacy from a test instrument and four measures of self-assessed competence, one as a composite score from a 25-item knowledge survey instrument and three from single questions. I rename the self-assessed competence as global_rating1, global_rating2, global_rating3 and actual_KSSLCI. \n",
    "\n",
    "Our client Dr. Nuhfer is interesting in the following questions:     \n",
    "1.\tAny other useful variables I should include in the survey? \n",
    "2.\tIs the size of data large enough and representative?\n",
    "3.\tHow to distinguish the participants who engaged in random guessing? \n",
    "4.\tDoes our data exhibit support for a Dunning-Kruger Effect in our study populace?\n",
    "5.\tDo our data support the contention that most people are overly optimistic? \n",
    "6.\tIs there any evidence in our data that supports that experts are actually any better than novices in self-assessment?\n",
    "\n",
    "In this data set, we have a total of 1154 observations and 82 variables. However, if we want to group some variables and evaluate each group, we may need more data to support that. For example, we don’t have enough observations who are professors and graduate students. "
   ]
  },
  {
   "cell_type": "markdown",
   "metadata": {
    "nbpresent": {
     "id": "337c4839-d8fa-4d73-b9aa-387e28ed147a"
    }
   },
   "source": [
    "## Data"
   ]
  },
  {
   "cell_type": "code",
   "execution_count": 57,
   "metadata": {
    "ExecuteTime": {
     "end_time": "2017-04-03T17:31:53.344506Z",
     "start_time": "2017-04-03T21:31:53.290Z"
    },
    "collapsed": false,
    "hide_input": false,
    "nbpresent": {
     "id": "94030d92-053f-421d-ac5b-f03951b84ae3"
    },
    "run_control": {
     "frozen": false,
     "read_only": false
    }
   },
   "outputs": [
    {
     "data": {
      "text/html": [
       "TRUE"
      ],
      "text/latex": [
       "TRUE"
      ],
      "text/markdown": [
       "TRUE"
      ],
      "text/plain": [
       "[1] TRUE"
      ]
     },
     "metadata": {},
     "output_type": "display_data"
    },
    {
     "data": {
      "text/html": [
       "TRUE"
      ],
      "text/latex": [
       "TRUE"
      ],
      "text/markdown": [
       "TRUE"
      ],
      "text/plain": [
       "[1] TRUE"
      ]
     },
     "metadata": {},
     "output_type": "display_data"
    },
    {
     "data": {
      "text/html": [
       "TRUE"
      ],
      "text/latex": [
       "TRUE"
      ],
      "text/markdown": [
       "TRUE"
      ],
      "text/plain": [
       "[1] TRUE"
      ]
     },
     "metadata": {},
     "output_type": "display_data"
    },
    {
     "data": {
      "text/html": [
       "TRUE"
      ],
      "text/latex": [
       "TRUE"
      ],
      "text/markdown": [
       "TRUE"
      ],
      "text/plain": [
       "[1] TRUE"
      ]
     },
     "metadata": {},
     "output_type": "display_data"
    },
    {
     "data": {
      "text/html": [
       "TRUE"
      ],
      "text/latex": [
       "TRUE"
      ],
      "text/markdown": [
       "TRUE"
      ],
      "text/plain": [
       "[1] TRUE"
      ]
     },
     "metadata": {},
     "output_type": "display_data"
    },
    {
     "data": {
      "text/html": [
       "TRUE"
      ],
      "text/latex": [
       "TRUE"
      ],
      "text/markdown": [
       "TRUE"
      ],
      "text/plain": [
       "[1] TRUE"
      ]
     },
     "metadata": {},
     "output_type": "display_data"
    }
   ],
   "source": [
    "# download or run the libraries \n",
    "require(dplyr) || install.packages(\"dplyr\", repos='http://cran.us.r-project.org')\n",
    "require(ggplot2) || install.packages(\"ggplot2\", repos='http://cran.us.r-project.org')\n",
    "require(kernlab) || install.packages(\"kernlab\", repos='http://cran.us.r-project.org')\n",
    "require(caret) || install.packages(\"caret\", repos='http://cran.us.r-project.org')\n",
    "require(e1071) || install.packages(\"e1071\", repos='http://cran.us.r-project.org')\n",
    "require(data.table) || install.packages(\"data.table\")"
   ]
  },
  {
   "cell_type": "code",
   "execution_count": 3,
   "metadata": {
    "ExecuteTime": {
     "end_time": "2017-04-03T17:30:58.250092Z",
     "start_time": "2017-04-03T21:30:55.796Z"
    },
    "collapsed": false
   },
   "outputs": [],
   "source": [
    "##  read in and rename the data \n",
    "data <- read.csv(\"data.csv\", header = TRUE, \n",
    "               stringsAsFactors = FALSE, \n",
    "               na.strings = c(\"\"))\n",
    "attach(data)\n",
    "\n",
    "## rename some of the cols \n",
    "\n",
    "setnames(data, old = c('First.Generation.','Intent.to.Majorin..Science','Class.Rank',\n",
    "                     'Courses.in.Science', 'English.as.First.Language',\n",
    "                     'Global.rating.from.description.of.SLCI',\n",
    "                     'From.Knowledge.survey.of.SLCI..KSSLCI.',\n",
    "                     'Global.rating.informed.by.taking.KSSLCI',\n",
    "                     'Actual.SLCI.Score',\n",
    "                     'Global.rating.informed.after.taking.SLCI',\n",
    "                     'KSSLCI.minus.SLCI', 'Item.Number'),\n",
    "         new = c('first_generation','major_science', 'class_rank',\n",
    "                 'courses_in_science','english_as_first_language',\n",
    "                 'global_rating_1',\n",
    "                 'actual_KSSLCI',\n",
    "                 'global_rating_2',\n",
    "                 'actual_SLCI','global_rating_3', \n",
    "                 'd', 'item_number'))"
   ]
  },
  {
   "cell_type": "code",
   "execution_count": 4,
   "metadata": {
    "ExecuteTime": {
     "end_time": "2017-04-03T17:30:58.280615Z",
     "start_time": "2017-04-03T21:30:55.801Z"
    },
    "collapsed": false
   },
   "outputs": [
    {
     "data": {
      "text/html": [
       "<ol class=list-inline>\n",
       "\t<li>1154</li>\n",
       "\t<li>82</li>\n",
       "</ol>\n"
      ],
      "text/latex": [
       "\\begin{enumerate*}\n",
       "\\item 1154\n",
       "\\item 82\n",
       "\\end{enumerate*}\n"
      ],
      "text/markdown": [
       "1. 1154\n",
       "2. 82\n",
       "\n",
       "\n"
      ],
      "text/plain": [
       "[1] 1154   82"
      ]
     },
     "metadata": {},
     "output_type": "display_data"
    }
   ],
   "source": [
    "dim(data)"
   ]
  },
  {
   "cell_type": "markdown",
   "metadata": {
    "nbpresent": {
     "id": "3dabf0fd-05d4-4a9a-9be6-1913eacb8a04"
    }
   },
   "source": [
    "### Cleaning "
   ]
  },
  {
   "cell_type": "code",
   "execution_count": 5,
   "metadata": {
    "ExecuteTime": {
     "end_time": "2017-04-03T17:30:58.318641Z",
     "start_time": "2017-04-03T21:30:55.815Z"
    },
    "collapsed": false,
    "hide_input": true,
    "nbpresent": {
     "id": "6189124c-49d1-4d86-af38-6f57afe471a8"
    },
    "run_control": {
     "frozen": false,
     "read_only": false
    }
   },
   "outputs": [
    {
     "data": {
      "text/html": [
       "<dl class=dl-horizontal>\n",
       "\t<dt>SLCI25</dt>\n",
       "\t\t<dd>0</dd>\n",
       "\t<dt>Gender</dt>\n",
       "\t\t<dd>7</dd>\n",
       "\t<dt>first_generation</dt>\n",
       "\t\t<dd>8</dd>\n",
       "\t<dt>major_science</dt>\n",
       "\t\t<dd>4</dd>\n",
       "\t<dt>class_rank</dt>\n",
       "\t\t<dd>5</dd>\n",
       "\t<dt>courses_in_science</dt>\n",
       "\t\t<dd>5</dd>\n",
       "\t<dt>english_as_first_language</dt>\n",
       "\t\t<dd>5</dd>\n",
       "\t<dt>Ethnicity</dt>\n",
       "\t\t<dd>0</dd>\n",
       "\t<dt>Institution</dt>\n",
       "\t\t<dd>0</dd>\n",
       "\t<dt>global_rating_1</dt>\n",
       "\t\t<dd>1</dd>\n",
       "\t<dt>actual_KSSLCI</dt>\n",
       "\t\t<dd>0</dd>\n",
       "\t<dt>global_rating_2</dt>\n",
       "\t\t<dd>1</dd>\n",
       "\t<dt>actual_SLCI</dt>\n",
       "\t\t<dd>0</dd>\n",
       "\t<dt>global_rating_3</dt>\n",
       "\t\t<dd>492</dd>\n",
       "\t<dt>d</dt>\n",
       "\t\t<dd>0</dd>\n",
       "\t<dt>item_number</dt>\n",
       "\t\t<dd>1129</dd>\n",
       "\t<dt>Collective.Average.SLCI.Score.by.item</dt>\n",
       "\t\t<dd>1129</dd>\n",
       "\t<dt>Collective.Average.KSSLCI.rating.by.item</dt>\n",
       "\t\t<dd>1129</dd>\n",
       "</dl>\n"
      ],
      "text/latex": [
       "\\begin{description*}\n",
       "\\item[SLCI25] 0\n",
       "\\item[Gender] 7\n",
       "\\item[first\\textbackslash{}\\_generation] 8\n",
       "\\item[major\\textbackslash{}\\_science] 4\n",
       "\\item[class\\textbackslash{}\\_rank] 5\n",
       "\\item[courses\\textbackslash{}\\_in\\textbackslash{}\\_science] 5\n",
       "\\item[english\\textbackslash{}\\_as\\textbackslash{}\\_first\\textbackslash{}\\_language] 5\n",
       "\\item[Ethnicity] 0\n",
       "\\item[Institution] 0\n",
       "\\item[global\\textbackslash{}\\_rating\\textbackslash{}\\_1] 1\n",
       "\\item[actual\\textbackslash{}\\_KSSLCI] 0\n",
       "\\item[global\\textbackslash{}\\_rating\\textbackslash{}\\_2] 1\n",
       "\\item[actual\\textbackslash{}\\_SLCI] 0\n",
       "\\item[global\\textbackslash{}\\_rating\\textbackslash{}\\_3] 492\n",
       "\\item[d] 0\n",
       "\\item[item\\textbackslash{}\\_number] 1129\n",
       "\\item[Collective.Average.SLCI.Score.by.item] 1129\n",
       "\\item[Collective.Average.KSSLCI.rating.by.item] 1129\n",
       "\\end{description*}\n"
      ],
      "text/markdown": [
       "SLCI25\n",
       ":   0Gender\n",
       ":   7first_generation\n",
       ":   8major_science\n",
       ":   4class_rank\n",
       ":   5courses_in_science\n",
       ":   5english_as_first_language\n",
       ":   5Ethnicity\n",
       ":   0Institution\n",
       ":   0global_rating_1\n",
       ":   1actual_KSSLCI\n",
       ":   0global_rating_2\n",
       ":   1actual_SLCI\n",
       ":   0global_rating_3\n",
       ":   492d\n",
       ":   0item_number\n",
       ":   1129Collective.Average.SLCI.Score.by.item\n",
       ":   1129Collective.Average.KSSLCI.rating.by.item\n",
       ":   1129\n",
       "\n"
      ],
      "text/plain": [
       "                                  SLCI25 \n",
       "                                       0 \n",
       "                                  Gender \n",
       "                                       7 \n",
       "                        first_generation \n",
       "                                       8 \n",
       "                           major_science \n",
       "                                       4 \n",
       "                              class_rank \n",
       "                                       5 \n",
       "                      courses_in_science \n",
       "                                       5 \n",
       "               english_as_first_language \n",
       "                                       5 \n",
       "                               Ethnicity \n",
       "                                       0 \n",
       "                             Institution \n",
       "                                       0 \n",
       "                         global_rating_1 \n",
       "                                       1 \n",
       "                           actual_KSSLCI \n",
       "                                       0 \n",
       "                         global_rating_2 \n",
       "                                       1 \n",
       "                             actual_SLCI \n",
       "                                       0 \n",
       "                         global_rating_3 \n",
       "                                     492 \n",
       "                                       d \n",
       "                                       0 \n",
       "                             item_number \n",
       "                                    1129 \n",
       "   Collective.Average.SLCI.Score.by.item \n",
       "                                    1129 \n",
       "Collective.Average.KSSLCI.rating.by.item \n",
       "                                    1129 "
      ]
     },
     "metadata": {},
     "output_type": "display_data"
    }
   ],
   "source": [
    "# any missing value? \n",
    "sapply(data[, 51:68],function(x) sum(is.na(x)))"
   ]
  },
  {
   "cell_type": "code",
   "execution_count": 6,
   "metadata": {
    "ExecuteTime": {
     "end_time": "2017-04-03T17:30:58.395195Z",
     "start_time": "2017-04-03T21:30:55.824Z"
    },
    "collapsed": true
   },
   "outputs": [],
   "source": [
    "# discard the rows without the record of gender, global_rating1 and 2, d, ...  \n",
    "data <- data[!is.na(data$global_rating_1),]\n",
    "data <- data[!is.na(data$global_rating_2),]\n",
    "data <- data[!is.na(data$Gender),]\n",
    "data <- data[!is.na(data$class_rank),]\n",
    "data <- data[!is.na(data$courses_in_science),]\n",
    "data <- data[!is.na(data$major_science),]\n",
    "data <- data[!is.na(data$english_as_first_language),]\n",
    "data <- data[!is.na(data$first_generation),]\n",
    "\n",
    "# Ethnics \n",
    "non_sense_eth <- c(\"0%\")\n",
    "data <- data[ ! data$Ethnicity %in% non_sense_eth, ]"
   ]
  },
  {
   "cell_type": "markdown",
   "metadata": {
    "hide_input": false,
    "nbpresent": {
     "id": "bdde109d-bd96-4214-82cd-b5bff02fb7e7"
    }
   },
   "source": [
    "**drop them**   \n",
    "Gender 7   \n",
    "class_rank 5                         \n",
    "courses_in_science 5   \n",
    "major_science 4  \n",
    "english_as_first_language 5  \n",
    "first_generation 8   \n",
    "global_rating_1 1   \n",
    "global_rating_2 1   \n",
    "\n",
    "**not necessary to drop**  \n",
    "global_rating_3 492   "
   ]
  },
  {
   "cell_type": "markdown",
   "metadata": {},
   "source": [
    "### Recoding"
   ]
  },
  {
   "cell_type": "code",
   "execution_count": 7,
   "metadata": {
    "ExecuteTime": {
     "end_time": "2017-04-03T17:30:58.440227Z",
     "start_time": "2017-04-03T21:30:55.832Z"
    },
    "collapsed": true,
    "hide_input": true,
    "nbpresent": {
     "id": "8c56bfa0-a5c2-4227-8a9d-7e958a3c6556"
    },
    "run_control": {
     "frozen": false,
     "read_only": false
    }
   },
   "outputs": [],
   "source": [
    "# 1.0% to 0.01\n",
    "data$actual_SLCI <- as.numeric(sub(\"%\",\"\", data$actual_SLCI))/100\n",
    "\n",
    "# global_rating_1\n",
    "data$global_rating_1 <- as.numeric(sub(\"%\",\"\", data$global_rating_1))/100\n",
    "\n",
    "# global_rating_2\n",
    "data$global_rating_2 <- as.numeric(sub(\"%\",\"\", data$global_rating_2))/100\n",
    "\n",
    "# global_rating_3\n",
    "data$global_rating_3 <- as.numeric(sub(\"%\",\"\", data$global_rating_2))/100\n",
    "\n",
    "# data$actual_KSSLCI\n",
    "data$actual_KSSLCI <- as.numeric(sub(\"%\",\"\", data$actual_KSSLCI))/100\n",
    "\n",
    "# d\n",
    "data$d <- as.numeric(sub(\"%\",\"\", data$d))/100\n"
   ]
  },
  {
   "cell_type": "code",
   "execution_count": 8,
   "metadata": {
    "ExecuteTime": {
     "end_time": "2017-04-03T17:30:58.469247Z",
     "start_time": "2017-04-03T21:30:55.842Z"
    },
    "collapsed": false,
    "hide_input": true,
    "nbpresent": {
     "id": "4d4cd9bc-a52b-4a2f-ab0c-58bde61e0743"
    },
    "run_control": {
     "frozen": false,
     "read_only": false
    }
   },
   "outputs": [],
   "source": [
    "data_new <- data[,52:82]"
   ]
  },
  {
   "cell_type": "markdown",
   "metadata": {
    "nbpresent": {
     "id": "ea971c77-a141-40ad-b85d-e365eae5916d"
    }
   },
   "source": [
    "#### Gender "
   ]
  },
  {
   "cell_type": "markdown",
   "metadata": {},
   "source": [
    "Female => 0        \n",
    "Male => 1 "
   ]
  },
  {
   "cell_type": "code",
   "execution_count": 9,
   "metadata": {
    "ExecuteTime": {
     "end_time": "2017-04-03T17:30:58.503272Z",
     "start_time": "2017-04-03T21:30:55.850Z"
    },
    "collapsed": false,
    "hide_input": true,
    "nbpresent": {
     "id": "966f6e30-b9c9-4ecb-b8a3-81ee024cfd57"
    },
    "run_control": {
     "frozen": false,
     "read_only": false
    }
   },
   "outputs": [],
   "source": [
    "## recode Gender\n",
    "data_new$Gender[data_new$Gender == \"Female\"] <- 0\n",
    "data_new$Gender[data_new$Gender == \"Male\"] <- 1"
   ]
  },
  {
   "cell_type": "markdown",
   "metadata": {
    "nbpresent": {
     "id": "5bd9f192-e21b-404c-b26b-601408b5b5d8"
    }
   },
   "source": [
    "#### class_rank"
   ]
  },
  {
   "cell_type": "markdown",
   "metadata": {},
   "source": [
    "\"Freshman\" = 1      \n",
    "\"Sophomore\" = 2    \n",
    "\"Junior\" = 3        \n",
    "\"Senior\" = 4                         \n",
    "\"Grad Student\" = 5      \n",
    "\"Professor\" = 6  "
   ]
  },
  {
   "cell_type": "code",
   "execution_count": 10,
   "metadata": {
    "ExecuteTime": {
     "end_time": "2017-04-03T17:30:58.548818Z",
     "start_time": "2017-04-03T21:30:55.858Z"
    },
    "collapsed": true,
    "hide_input": true,
    "nbpresent": {
     "id": "086a460e-d9da-4299-a404-0a70b1047d12"
    },
    "run_control": {
     "frozen": false,
     "read_only": false
    }
   },
   "outputs": [],
   "source": [
    "data_new$class_rank[data_new$class_rank == \"Freshman\"] <- 1\n",
    "data_new$class_rank[data_new$class_rank == \"Sophomore\"] <- 2\n",
    "data_new$class_rank[data_new$class_rank == \"Junior\"] <- 3\n",
    "data_new$class_rank[data_new$class_rank == \"Senior\"] <- 4\n",
    "data_new$class_rank[data_new$class_rank == \"Grad Student\"] <- 5\n",
    "data_new$class_rank[data_new$class_rank == \"Professor\"] <- 6"
   ]
  },
  {
   "cell_type": "markdown",
   "metadata": {},
   "source": [
    "#### major_science"
   ]
  },
  {
   "cell_type": "markdown",
   "metadata": {},
   "source": [
    "Science Major = 1     \n",
    "Not Science Major = 0 "
   ]
  },
  {
   "cell_type": "code",
   "execution_count": 11,
   "metadata": {
    "ExecuteTime": {
     "end_time": "2017-04-03T17:30:58.587331Z",
     "start_time": "2017-04-03T21:30:55.865Z"
    },
    "collapsed": false
   },
   "outputs": [
    {
     "data": {
      "text/plain": [
       "\n",
       "  0   1 \n",
       "374 751 "
      ]
     },
     "metadata": {},
     "output_type": "display_data"
    }
   ],
   "source": [
    "data_new$major_science[data_new$major_science == \"Yes\"] <- 1\n",
    "data_new$major_science[data_new$major_science == \"No\"] <- 0\n",
    "\n",
    "table(data_new$major_science)  \n",
    "# We have 375 students with science major and 757 students with non-science major. "
   ]
  },
  {
   "cell_type": "markdown",
   "metadata": {},
   "source": [
    "##### courses_in_science"
   ]
  },
  {
   "cell_type": "markdown",
   "metadata": {},
   "source": [
    "None => 1\n",
    "One => 2\n",
    "Two => 3\n",
    "Three => 4\n",
    "Four => 5\n",
    "More than four => 6"
   ]
  },
  {
   "cell_type": "code",
   "execution_count": 12,
   "metadata": {
    "ExecuteTime": {
     "end_time": "2017-04-03T17:30:58.639368Z",
     "start_time": "2017-04-03T21:30:55.880Z"
    },
    "collapsed": true
   },
   "outputs": [],
   "source": [
    "data_new$courses_in_science[data_new$courses_in_science == \"None\"] <- 1\n",
    "data_new$courses_in_science[data_new$courses_in_science == \"One\"] <- 2\n",
    "data_new$courses_in_science[data_new$courses_in_science == \"Two\"] <- 3\n",
    "data_new$courses_in_science[data_new$courses_in_science == \"Three\"] <- 4\n",
    "data_new$courses_in_science[data_new$courses_in_science == \"Four\"] <- 5\n",
    "data_new$courses_in_science[data_new$courses_in_science == \"More than four\"] <- 6"
   ]
  },
  {
   "cell_type": "markdown",
   "metadata": {},
   "source": [
    "##### english_as_first_language"
   ]
  },
  {
   "cell_type": "markdown",
   "metadata": {},
   "source": [
    "Yes => 1\n",
    "No => 0"
   ]
  },
  {
   "cell_type": "code",
   "execution_count": 13,
   "metadata": {
    "ExecuteTime": {
     "end_time": "2017-04-03T17:30:58.673892Z",
     "start_time": "2017-04-03T21:30:55.886Z"
    },
    "collapsed": false
   },
   "outputs": [],
   "source": [
    "data_new$english_as_first_language[data_new$english_as_first_language == \"Yes\"] <- 1\n",
    "data_new$english_as_first_language[data_new$english_as_first_language == \"No\"] <- 0"
   ]
  },
  {
   "cell_type": "markdown",
   "metadata": {},
   "source": [
    "##### Ethnicity"
   ]
  },
  {
   "cell_type": "code",
   "execution_count": 14,
   "metadata": {
    "ExecuteTime": {
     "end_time": "2017-04-03T17:30:58.707430Z",
     "start_time": "2017-04-03T21:30:55.896Z"
    },
    "collapsed": false
   },
   "outputs": [
    {
     "data": {
      "text/plain": [
       "\n",
       "African/African-American                    Asian          Caucasian/White \n",
       "                      38                       53                      696 \n",
       "     Hispanic/Chicano(a)           Middle Eastern          Native American \n",
       "                     241                       13                        7 \n",
       "                   Other         Pacific Islander \n",
       "                      70                        7 "
      ]
     },
     "metadata": {},
     "output_type": "display_data"
    }
   ],
   "source": [
    "table(data_new$Ethnicity)"
   ]
  },
  {
   "cell_type": "markdown",
   "metadata": {},
   "source": [
    "Caucasian/White => 1     \n",
    "Asian => 2      \n",
    "African/African-American => 3      \n",
    "Hispanic/Chicano(a) => 4      \n",
    "Native American => 5    \n",
    "Pacific Islander => 6    \n",
    "Middle Eastern => 7      \n",
    "Other => 8        "
   ]
  },
  {
   "cell_type": "code",
   "execution_count": 15,
   "metadata": {
    "ExecuteTime": {
     "end_time": "2017-04-03T17:30:58.757952Z",
     "start_time": "2017-04-03T21:30:55.903Z"
    },
    "collapsed": false
   },
   "outputs": [],
   "source": [
    "data_new$Ethnicity[data_new$Ethnicity == \"Caucasian/White\"] <- 1\n",
    "data_new$Ethnicity[data_new$Ethnicity == \"Asian\"] <- 2\n",
    "data_new$Ethnicity[data_new$Ethnicity == \"African/African-American\"] <- 3\n",
    "data_new$Ethnicity[data_new$Ethnicity == \"Hispanic/Chicano(a)\"] <- 4\n",
    "data_new$Ethnicity[data_new$Ethnicity == \"Native American\"] <- 5\n",
    "data_new$Ethnicity[data_new$Ethnicity == \"Pacific Islander\"] <- 6\n",
    "data_new$Ethnicity[data_new$Ethnicity == \"Middle Eastern\"] <- 7\n",
    "data_new$Ethnicity[data_new$Ethnicity == \"Other\"] <- 8"
   ]
  },
  {
   "cell_type": "markdown",
   "metadata": {},
   "source": [
    "##### Institution"
   ]
  },
  {
   "cell_type": "code",
   "execution_count": 16,
   "metadata": {
    "ExecuteTime": {
     "end_time": "2017-04-03T17:30:58.813506Z",
     "start_time": "2017-04-03T21:30:55.910Z"
    },
    "collapsed": false
   },
   "outputs": [
    {
     "data": {
      "text/plain": [
       "\n",
       " Conference G  Conference H  Conference I  Conference J  Conference L \n",
       "           10             2            21            19            24 \n",
       "Institution A Institution B Institution C Institution D Institution E \n",
       "          504             1            22           414            63 \n",
       "Institution F Institution K \n",
       "           11            34 "
      ]
     },
     "metadata": {},
     "output_type": "display_data"
    }
   ],
   "source": [
    "table(data_new$Institution)\n",
    "\n",
    "data_new$Institution[data_new$Institution == \"Institution A\"] <- 1\n",
    "data_new$Institution[data_new$Institution == \"Institution B\"] <- 2\n",
    "data_new$Institution[data_new$Institution == \"Institution C\"] <- 3\n",
    "data_new$Institution[data_new$Institution == \"Institution D\"] <- 4\n",
    "data_new$Institution[data_new$Institution == \"Institution E\"] <- 5\n",
    "data_new$Institution[data_new$Institution == \"Institution F\"] <- 6\n",
    "data_new$Institution[data_new$Institution == \"Conference G\"] <- 7\n",
    "data_new$Institution[data_new$Institution == \"Conference H\"] <- 8\n",
    "data_new$Institution[data_new$Institution == \"Conference I\"] <- 9\n",
    "data_new$Institution[data_new$Institution == \"Conference J\"] <- 10\n",
    "data_new$Institution[data_new$Institution == \"Institution K\"] <- 11\n",
    "data_new$Institution[data_new$Institution == \"Conference L\"] <- 12"
   ]
  },
  {
   "cell_type": "markdown",
   "metadata": {},
   "source": [
    "I find that 504 observations are from Institution A and 414 students are from Institution D. The rest of institutions has only less than 100 observations. I suspect that it may cause some bias in our model. "
   ]
  },
  {
   "cell_type": "markdown",
   "metadata": {},
   "source": [
    "##### first_generation"
   ]
  },
  {
   "cell_type": "code",
   "execution_count": 17,
   "metadata": {
    "ExecuteTime": {
     "end_time": "2017-04-03T17:30:58.851518Z",
     "start_time": "2017-04-03T21:30:55.918Z"
    },
    "collapsed": false
   },
   "outputs": [],
   "source": [
    "data_new$first_generation[data_new$first_generation == \"Yes\"] <- 1\n",
    "data_new$first_generation[data_new$first_generation == \"No\"] <- 0"
   ]
  },
  {
   "cell_type": "markdown",
   "metadata": {},
   "source": [
    "### Short Summary "
   ]
  },
  {
   "cell_type": "code",
   "execution_count": 18,
   "metadata": {
    "ExecuteTime": {
     "end_time": "2017-04-03T17:30:58.904558Z",
     "start_time": "2017-04-03T21:30:55.933Z"
    },
    "collapsed": false
   },
   "outputs": [
    {
     "data": {
      "text/html": [
       "<ol class=list-inline>\n",
       "\t<li>1125</li>\n",
       "\t<li>31</li>\n",
       "</ol>\n"
      ],
      "text/latex": [
       "\\begin{enumerate*}\n",
       "\\item 1125\n",
       "\\item 31\n",
       "\\end{enumerate*}\n"
      ],
      "text/markdown": [
       "1. 1125\n",
       "2. 31\n",
       "\n",
       "\n"
      ],
      "text/plain": [
       "[1] 1125   31"
      ]
     },
     "metadata": {},
     "output_type": "display_data"
    },
    {
     "data": {
      "text/html": [
       "<table>\n",
       "<thead><tr><th></th><th scope=col>Gender</th><th scope=col>first_generation</th><th scope=col>major_science</th><th scope=col>class_rank</th><th scope=col>courses_in_science</th><th scope=col>english_as_first_language</th><th scope=col>Ethnicity</th><th scope=col>Institution</th><th scope=col>global_rating_1</th><th scope=col>actual_KSSLCI</th><th scope=col>...</th><th scope=col>Random..KSSLCI.as.Percentile</th><th scope=col>Random...KSSLCI.SLCI..as.percentile</th><th scope=col>SLCI.Percentile</th><th scope=col>KSSLCI.Percentile</th><th scope=col>ksslci...slci.percentile</th><th scope=col>Quartile</th><th scope=col>ksslci.slci.ppts</th><th scope=col>SLCI.percentile.x.100</th><th scope=col>ksslcipercentile.x.100</th><th scope=col>ksslci.slcipercentile.x.100</th></tr></thead>\n",
       "<tbody>\n",
       "\t<tr><th scope=row>1149</th><td>1       </td><td>1       </td><td>0       </td><td>4       </td><td>4       </td><td>0       </td><td>4       </td><td>11      </td><td>0.75    </td><td>0.48    </td><td>...     </td><td>0.88725 </td><td> 0.0867 </td><td>0.55507 </td><td>0.12229 </td><td>-0.43278</td><td>3rd     </td><td>-32     </td><td>55.507  </td><td>12.229  </td><td>-43.278 </td></tr>\n",
       "\t<tr><th scope=row>1150</th><td>1       </td><td>0       </td><td>1       </td><td>4       </td><td>6       </td><td>1       </td><td>2       </td><td>11      </td><td>0.45    </td><td>0.68    </td><td>...     </td><td>0.99653 </td><td> 0.1587 </td><td>0.95490 </td><td>0.33304 </td><td>-0.62186</td><td>Top     </td><td>-28     </td><td>95.490  </td><td>33.304  </td><td>-62.186 </td></tr>\n",
       "\t<tr><th scope=row>1151</th><td>1       </td><td>1       </td><td>1       </td><td>4       </td><td>6       </td><td>1       </td><td>1       </td><td>11      </td><td>0.70    </td><td>0.40    </td><td>...     </td><td>0.49176 </td><td> 0.3417 </td><td>0.39115 </td><td>0.07112 </td><td>-0.32003</td><td>2nd     </td><td>-32     </td><td>39.115  </td><td> 7.112  </td><td>-32.003 </td></tr>\n",
       "\t<tr><th scope=row>1152</th><td>0       </td><td>0       </td><td>0       </td><td>3       </td><td>3       </td><td>1       </td><td>2       </td><td>11      </td><td>0.50    </td><td>0.82    </td><td>...     </td><td>0.92368 </td><td>-0.0746 </td><td>0.32003 </td><td>0.55160 </td><td> 0.23157</td><td>2nd     </td><td> 14     </td><td>32.003  </td><td>55.160  </td><td> 23.157 </td></tr>\n",
       "\t<tr><th scope=row>1153</th><td>0       </td><td>1       </td><td>0       </td><td>4       </td><td>6       </td><td>1       </td><td>2       </td><td>11      </td><td>0.80    </td><td>0.80    </td><td>...     </td><td>0.77450 </td><td> 0.5707 </td><td>0.55594 </td><td>0.50737 </td><td>-0.04857</td><td>3rd     </td><td>  0     </td><td>55.594  </td><td>50.737  </td><td> -4.857 </td></tr>\n",
       "\t<tr><th scope=row>1154</th><td>0       </td><td>1       </td><td>1       </td><td>4       </td><td>6       </td><td>1       </td><td>1       </td><td>11      </td><td>0.80    </td><td>0.64    </td><td>...     </td><td>0.96357 </td><td> 0.6461 </td><td>0.55681 </td><td>0.28621 </td><td>-0.27060</td><td>3rd     </td><td>-16     </td><td>55.681  </td><td>28.621  </td><td>-27.060 </td></tr>\n",
       "</tbody>\n",
       "</table>\n"
      ],
      "text/latex": [
       "\\begin{tabular}{r|lllllllllllllllllllllllllllllll}\n",
       "  & Gender & first\\_generation & major\\_science & class\\_rank & courses\\_in\\_science & english\\_as\\_first\\_language & Ethnicity & Institution & global\\_rating\\_1 & actual\\_KSSLCI & ... & Random..KSSLCI.as.Percentile & Random...KSSLCI.SLCI..as.percentile & SLCI.Percentile & KSSLCI.Percentile & ksslci...slci.percentile & Quartile & ksslci.slci.ppts & SLCI.percentile.x.100 & ksslcipercentile.x.100 & ksslci.slcipercentile.x.100\\\\\n",
       "\\hline\n",
       "\t1149 & 1        & 1        & 0        & 4        & 4        & 0        & 4        & 11       & 0.75     & 0.48     & ...      & 0.88725  &  0.0867  & 0.55507  & 0.12229  & -0.43278 & 3rd      & -32      & 55.507   & 12.229   & -43.278 \\\\\n",
       "\t1150 & 1        & 0        & 1        & 4        & 6        & 1        & 2        & 11       & 0.45     & 0.68     & ...      & 0.99653  &  0.1587  & 0.95490  & 0.33304  & -0.62186 & Top      & -28      & 95.490   & 33.304   & -62.186 \\\\\n",
       "\t1151 & 1        & 1        & 1        & 4        & 6        & 1        & 1        & 11       & 0.70     & 0.40     & ...      & 0.49176  &  0.3417  & 0.39115  & 0.07112  & -0.32003 & 2nd      & -32      & 39.115   &  7.112   & -32.003 \\\\\n",
       "\t1152 & 0        & 0        & 0        & 3        & 3        & 1        & 2        & 11       & 0.50     & 0.82     & ...      & 0.92368  & -0.0746  & 0.32003  & 0.55160  &  0.23157 & 2nd      &  14      & 32.003   & 55.160   &  23.157 \\\\\n",
       "\t1153 & 0        & 1        & 0        & 4        & 6        & 1        & 2        & 11       & 0.80     & 0.80     & ...      & 0.77450  &  0.5707  & 0.55594  & 0.50737  & -0.04857 & 3rd      &   0      & 55.594   & 50.737   &  -4.857 \\\\\n",
       "\t1154 & 0        & 1        & 1        & 4        & 6        & 1        & 1        & 11       & 0.80     & 0.64     & ...      & 0.96357  &  0.6461  & 0.55681  & 0.28621  & -0.27060 & 3rd      & -16      & 55.681   & 28.621   & -27.060 \\\\\n",
       "\\end{tabular}\n"
      ],
      "text/markdown": [
       "\n",
       "| <!--/--> | Gender | first_generation | major_science | class_rank | courses_in_science | english_as_first_language | Ethnicity | Institution | global_rating_1 | actual_KSSLCI | ... | Random..KSSLCI.as.Percentile | Random...KSSLCI.SLCI..as.percentile | SLCI.Percentile | KSSLCI.Percentile | ksslci...slci.percentile | Quartile | ksslci.slci.ppts | SLCI.percentile.x.100 | ksslcipercentile.x.100 | ksslci.slcipercentile.x.100 | \n",
       "|---|---|---|---|---|---|\n",
       "| 1149 | 1        | 1        | 0        | 4        | 4        | 0        | 4        | 11       | 0.75     | 0.48     | ...      | 0.88725  |  0.0867  | 0.55507  | 0.12229  | -0.43278 | 3rd      | -32      | 55.507   | 12.229   | -43.278  | \n",
       "| 1150 | 1        | 0        | 1        | 4        | 6        | 1        | 2        | 11       | 0.45     | 0.68     | ...      | 0.99653  |  0.1587  | 0.95490  | 0.33304  | -0.62186 | Top      | -28      | 95.490   | 33.304   | -62.186  | \n",
       "| 1151 | 1        | 1        | 1        | 4        | 6        | 1        | 1        | 11       | 0.70     | 0.40     | ...      | 0.49176  |  0.3417  | 0.39115  | 0.07112  | -0.32003 | 2nd      | -32      | 39.115   |  7.112   | -32.003  | \n",
       "| 1152 | 0        | 0        | 0        | 3        | 3        | 1        | 2        | 11       | 0.50     | 0.82     | ...      | 0.92368  | -0.0746  | 0.32003  | 0.55160  |  0.23157 | 2nd      |  14      | 32.003   | 55.160   |  23.157  | \n",
       "| 1153 | 0        | 1        | 0        | 4        | 6        | 1        | 2        | 11       | 0.80     | 0.80     | ...      | 0.77450  |  0.5707  | 0.55594  | 0.50737  | -0.04857 | 3rd      |   0      | 55.594   | 50.737   |  -4.857  | \n",
       "| 1154 | 0        | 1        | 1        | 4        | 6        | 1        | 1        | 11       | 0.80     | 0.64     | ...      | 0.96357  |  0.6461  | 0.55681  | 0.28621  | -0.27060 | 3rd      | -16      | 55.681   | 28.621   | -27.060  | \n",
       "\n",
       "\n"
      ],
      "text/plain": [
       "     Gender first_generation major_science class_rank courses_in_science\n",
       "1149 1      1                0             4          4                 \n",
       "1150 1      0                1             4          6                 \n",
       "1151 1      1                1             4          6                 \n",
       "1152 0      0                0             3          3                 \n",
       "1153 0      1                0             4          6                 \n",
       "1154 0      1                1             4          6                 \n",
       "     english_as_first_language Ethnicity Institution global_rating_1\n",
       "1149 0                         4         11          0.75           \n",
       "1150 1                         2         11          0.45           \n",
       "1151 1                         1         11          0.70           \n",
       "1152 1                         2         11          0.50           \n",
       "1153 1                         2         11          0.80           \n",
       "1154 1                         1         11          0.80           \n",
       "     actual_KSSLCI ... Random..KSSLCI.as.Percentile\n",
       "1149 0.48          ... 0.88725                     \n",
       "1150 0.68          ... 0.99653                     \n",
       "1151 0.40          ... 0.49176                     \n",
       "1152 0.82          ... 0.92368                     \n",
       "1153 0.80          ... 0.77450                     \n",
       "1154 0.64          ... 0.96357                     \n",
       "     Random...KSSLCI.SLCI..as.percentile SLCI.Percentile KSSLCI.Percentile\n",
       "1149  0.0867                             0.55507         0.12229          \n",
       "1150  0.1587                             0.95490         0.33304          \n",
       "1151  0.3417                             0.39115         0.07112          \n",
       "1152 -0.0746                             0.32003         0.55160          \n",
       "1153  0.5707                             0.55594         0.50737          \n",
       "1154  0.6461                             0.55681         0.28621          \n",
       "     ksslci...slci.percentile Quartile ksslci.slci.ppts SLCI.percentile.x.100\n",
       "1149 -0.43278                 3rd      -32              55.507               \n",
       "1150 -0.62186                 Top      -28              95.490               \n",
       "1151 -0.32003                 2nd      -32              39.115               \n",
       "1152  0.23157                 2nd       14              32.003               \n",
       "1153 -0.04857                 3rd        0              55.594               \n",
       "1154 -0.27060                 3rd      -16              55.681               \n",
       "     ksslcipercentile.x.100 ksslci.slcipercentile.x.100\n",
       "1149 12.229                 -43.278                    \n",
       "1150 33.304                 -62.186                    \n",
       "1151  7.112                 -32.003                    \n",
       "1152 55.160                  23.157                    \n",
       "1153 50.737                  -4.857                    \n",
       "1154 28.621                 -27.060                    "
      ]
     },
     "metadata": {},
     "output_type": "display_data"
    }
   ],
   "source": [
    "data_new %>% dim()\n",
    "tail(data_new)"
   ]
  },
  {
   "cell_type": "markdown",
   "metadata": {},
   "source": [
    "After cleaning and recoding, the data frame has 1125 variables.              \n",
    "Here is a glimpse of the data frame. "
   ]
  },
  {
   "cell_type": "markdown",
   "metadata": {},
   "source": [
    "## Approach"
   ]
  },
  {
   "cell_type": "markdown",
   "metadata": {
    "ExecuteTime": {
     "end_time": "2017-04-03T17:22:34.552660Z",
     "start_time": "2017-04-03T21:22:34.530Z"
    }
   },
   "source": [
    "1.\t**Cleaning the data and recoding the variables**         \n",
    "Since I will use all the demographic variables, from gender to institution, I drop the observations with any missing value in these columns. The total number of observations after cleaning is 1125. I also recode the categorical variables to numeric numbers. It not only accelerates the computation, but also makes later machine learning normalization easier.\n",
    "2.\t**Explore some important variables**, such as gender, class rank, science major and institution. Check if that variable is significant.\n",
    "3.\t**Machine Learning Method: SVM**\n"
   ]
  },
  {
   "cell_type": "markdown",
   "metadata": {
    "nbpresent": {
     "id": "c086750e-2930-469b-9b81-e5f8e6c3e26a"
    }
   },
   "source": [
    "## Analysis: "
   ]
  },
  {
   "cell_type": "markdown",
   "metadata": {
    "nbpresent": {
     "id": "067d628d-4b72-46c8-a63f-0c96d54d013e"
    }
   },
   "source": [
    "### $d_i$ "
   ]
  },
  {
   "cell_type": "markdown",
   "metadata": {
    "nbpresent": {
     "id": "a6a147ef-d546-490a-b5c9-80d35edc58b0"
    }
   },
   "source": [
    "Rather than compare the participant’s overall guess as to what % they will get correct to the % they actually got correct and using the difference between these two numbers, we found the the difference in what each person thought they’d get for a question with what they actually got on that question\n",
    "\n",
    "I create two matrixes, one for the knowledge test records(K) and the other for the actual test records (S). I use the above method to create d_i=S-K/2. Then, we calculate the mean of all d_i and obtain that individual’s dif_bar. If the dif_bar is smaller than 0, we can say that he/she overestimate themselves. If that person’s dif_bar is higher than 0, we can say that he/she overestimate themselves. This method is different from Dr. Nuhfer’s way of calculating d. It decreases many noises in the process. \n",
    "\n",
    "**Breakdown of the Matrix:**\n",
    "\n",
    "|     |                  | S                           |\n",
    "|:---:|------------------|---------------|-------------|\n",
    "|     |                  | 0 = INCORRECT | 1 = CORRECT |\n",
    "|     | 0 = DON'T KNOW   | 0             | 1           |\n",
    "| K/2 | 0.5 = MIGHT KNOW | -0.5          | 0.5         |\n",
    "|     | 1 = KNOW IT      | -1            | 0           |\n",
    "\n",
    "\n",
    "If you’re accurate, then your difference is 0 and the more inaccurate you are the closer you get to 1 or -1       \n",
    "**(positive # = underestimate, negative # = overestimate)**\n",
    "\n",
    "\n",
    "Then we averaged this difference for each question for each individual and use the individual average differences to gather information for this group of individuals\n"
   ]
  },
  {
   "cell_type": "code",
   "execution_count": 19,
   "metadata": {
    "ExecuteTime": {
     "end_time": "2017-04-03T17:30:59.014634Z",
     "start_time": "2017-04-03T21:30:55.944Z"
    },
    "collapsed": false,
    "hide_input": true,
    "nbpresent": {
     "id": "d63110b8-e559-43ff-9a91-f374115abc57"
    },
    "run_control": {
     "frozen": false,
     "read_only": false
    }
   },
   "outputs": [
    {
     "data": {
      "image/png": "[encoded data removed]",
      "text/plain": [
       "Plot with title \"Histogram of dif_bar\""
      ]
     },
     "metadata": {},
     "output_type": "display_data"
    }
   ],
   "source": [
    "NN <- dim(data)[1]\n",
    "\n",
    "K_test_mat <- as.matrix(data[, 2:26])\n",
    "S_test_mat <- as.matrix(data[, 27:51])\n",
    "\n",
    "# calculate di: S - 0.5K\n",
    "dif_score_mat <- matrix(0, NN, 25)\n",
    "dif_score_mat <- S_test_mat - 0.5*K_test_mat\n",
    "\n",
    "dif_bar <- apply(dif_score_mat, 1, mean, na.rm = TRUE)\n",
    "data_new$dif_bar <- dif_bar\n",
    "\n",
    "hist(dif_bar)"
   ]
  },
  {
   "cell_type": "code",
   "execution_count": 20,
   "metadata": {
    "ExecuteTime": {
     "end_time": "2017-04-03T17:30:59.136220Z",
     "start_time": "2017-04-03T21:30:55.950Z"
    },
    "collapsed": false,
    "nbpresent": {
     "id": "911897ce-61c8-4ee7-b1c4-3ea99f99efa5"
    },
    "run_control": {
     "frozen": false,
     "read_only": false
    }
   },
   "outputs": [
    {
     "data": {
      "text/plain": [
       "    Min.  1st Qu.   Median     Mean  3rd Qu.     Max. \n",
       "-0.64000 -0.12000 -0.02000 -0.01164  0.08000  0.66000 "
      ]
     },
     "metadata": {},
     "output_type": "display_data"
    },
    {
     "data": {
      "text/html": [
       "0.18409695384333"
      ],
      "text/latex": [
       "0.18409695384333"
      ],
      "text/markdown": [
       "0.18409695384333"
      ],
      "text/plain": [
       "[1] 0.184097"
      ]
     },
     "metadata": {},
     "output_type": "display_data"
    },
    {
     "data": {
      "image/png": "[encoded data removed]",
      "text/plain": [
       "Plot with title \"Normal Q-Q Plot\""
      ]
     },
     "metadata": {},
     "output_type": "display_data"
    }
   ],
   "source": [
    "summary(dif_bar)\n",
    "qqnorm(dif_bar)\n",
    "qqline(dif_bar, col = \"red\")\n",
    "\n",
    "sd(dif_bar)"
   ]
  },
  {
   "cell_type": "markdown",
   "metadata": {},
   "source": [
    "The qq plot does not look like a straight line. It means that the linear assumption is not met. \n",
    "\n",
    "Since the qq plot for dif_bar doesn’t look good, we use bootstrap to sample 1000 points from the data and draw another histogram. From the histogram, we can see that the mean is around -0.01. We can conclude together with the t test that people are more likely to overestimate themselves.  It answers the fifth question that our client asked. "
   ]
  },
  {
   "cell_type": "markdown",
   "metadata": {},
   "source": [
    "### BootStrap "
   ]
  },
  {
   "cell_type": "code",
   "execution_count": 1,
   "metadata": {
    "ExecuteTime": {
     "end_time": "2017-04-03T17:35:24.426479Z",
     "start_time": "2017-04-03T21:35:24.268Z"
    },
    "collapsed": false
   },
   "outputs": [
    {
     "data": {
      "image/png": "[encoded data removed]",
      "text/plain": [
       "Plot with title \"Histogram of data_boot\""
      ]
     },
     "metadata": {},
     "output_type": "display_data"
    }
   ],
   "source": [
    "## boostrap \n",
    "nboot <- 1000\n",
    "data_boot <- rep(0,nboot)\n",
    "\n",
    "for (i in 1:nboot) {\n",
    "  boot_sample <- sample(data_new$dif_bar, NN, replace = TRUE)\n",
    "  data_boot[i] <- mean(boot_sample, na.rm = TRUE)\n",
    "}\n",
    "\n",
    "\n",
    "\n",
    "hist(data_boot)"
   ]
  },
  {
   "cell_type": "markdown",
   "metadata": {
    "nbpresent": {
     "id": "55f4f118-efb4-4512-a549-eb7457fccb3b"
    }
   },
   "source": [
    "### Test for Dunning-Kruger Effect"
   ]
  },
  {
   "cell_type": "markdown",
   "metadata": {
    "nbpresent": {
     "id": "801b0800-49e4-4637-abb9-9a687ae4710b"
    }
   },
   "source": [
    "$H_0$: $\\mu = 0$       \n",
    "$H_a$: $\\mu < 0$"
   ]
  },
  {
   "cell_type": "code",
   "execution_count": 21,
   "metadata": {
    "ExecuteTime": {
     "end_time": "2017-04-03T17:30:59.174248Z",
     "start_time": "2017-04-03T21:30:55.958Z"
    },
    "collapsed": false,
    "hide_input": true,
    "nbpresent": {
     "id": "2cb9403e-ec5a-4aa3-967c-70b719d24ea8"
    },
    "run_control": {
     "frozen": false,
     "read_only": false
    }
   },
   "outputs": [
    {
     "data": {
      "text/plain": [
       "\n",
       "\tOne Sample t-test\n",
       "\n",
       "data:  data_new$dif_bar\n",
       "t = 0, df = 1124, p-value = 0.5\n",
       "alternative hypothesis: true mean is less than -0.01164444\n",
       "95 percent confidence interval:\n",
       "         -Inf -0.002608872\n",
       "sample estimates:\n",
       "  mean of x \n",
       "-0.01164444 \n"
      ]
     },
     "metadata": {},
     "output_type": "display_data"
    }
   ],
   "source": [
    "# One sample t test \n",
    "xbar_dif_bar <- mean(data_new$dif_bar)\n",
    "t.test(data_new$dif_bar, mu = xbar_dif_bar, alternative = \"less\")"
   ]
  },
  {
   "cell_type": "code",
   "execution_count": 22,
   "metadata": {
    "ExecuteTime": {
     "end_time": "2017-04-03T17:30:59.646582Z",
     "start_time": "2017-04-03T21:30:55.964Z"
    },
    "collapsed": false
   },
   "outputs": [
    {
     "data": {},
     "metadata": {},
     "output_type": "display_data"
    },
    {
     "data": {
      "text/plain": [
       "\n",
       "Call:\n",
       "lm(formula = data_new$actual_SLCI ~ data_new$dif_bar, data = data_new)\n",
       "\n",
       "Residuals:\n",
       "     Min       1Q   Median       3Q      Max \n",
       "-0.59039 -0.12098  0.04745  0.15078  0.26019 \n",
       "\n",
       "Coefficients:\n",
       "                 Estimate Std. Error t value Pr(>|t|)    \n",
       "(Intercept)      0.739806   0.005469  135.28   <2e-16 ***\n",
       "data_new$dif_bar 0.421543   0.029659   14.21   <2e-16 ***\n",
       "---\n",
       "Signif. codes:  0 '***' 0.001 '**' 0.01 '*' 0.05 '.' 0.1 ' ' 1\n",
       "\n",
       "Residual standard error: 0.1831 on 1123 degrees of freedom\n",
       "Multiple R-squared:  0.1525,\tAdjusted R-squared:  0.1517 \n",
       "F-statistic:   202 on 1 and 1123 DF,  p-value: < 2.2e-16\n"
      ]
     },
     "metadata": {},
     "output_type": "display_data"
    },
    {
     "data": {
      "image/png": "[encoded data removed]",
      "text/plain": [
       "plot without title"
      ]
     },
     "metadata": {},
     "output_type": "display_data"
    }
   ],
   "source": [
    "fit_d_actual_SLCI <- lm(data_new$actual_SLCI~data_new$dif_bar, data = data_new)\n",
    "\n",
    "ggplot(aes(x = data_new$actual_SLCI, y = data_new$dif_bar), data = data_new) +\n",
    "  geom_point(alpha = 0.2) + \n",
    "  geom_smooth(method = 'loess')\n",
    "\n",
    "summary(fit_d_actual_SLCI)  # p value is smaller than 2.2e-16 "
   ]
  },
  {
   "cell_type": "markdown",
   "metadata": {
    "nbpresent": {
     "id": "22accc2f-db8b-40d5-8b35-ce66b567a9da"
    }
   },
   "source": [
    "### Gender vs. $\\bar{d}$"
   ]
  },
  {
   "cell_type": "code",
   "execution_count": 23,
   "metadata": {
    "ExecuteTime": {
     "end_time": "2017-04-03T17:30:59.711627Z",
     "start_time": "2017-04-03T21:30:55.970Z"
    },
    "collapsed": false,
    "hide_input": true,
    "nbpresent": {
     "id": "5e4a84a7-aa82-4cc6-823f-fbba629b3712"
    },
    "run_control": {
     "frozen": false,
     "read_only": false
    }
   },
   "outputs": [
    {
     "data": {
      "text/html": [
       "<table>\n",
       "<thead><tr><th scope=col>Gender</th><th scope=col>mean_dif_bar</th><th scope=col>sd_dif_bar</th><th scope=col>min_dif_bar</th><th scope=col>median_dif_bar</th><th scope=col>max_dif_bar</th><th scope=col>n</th></tr></thead>\n",
       "<tbody>\n",
       "\t<tr><td>0           </td><td> 0.006227209</td><td>0.1882009   </td><td>-0.54       </td><td> 0.00       </td><td>0.66        </td><td>713         </td></tr>\n",
       "\t<tr><td>1           </td><td>-0.042572816</td><td>0.1726681   </td><td>-0.64       </td><td>-0.04       </td><td>0.64        </td><td>412         </td></tr>\n",
       "</tbody>\n",
       "</table>\n"
      ],
      "text/latex": [
       "\\begin{tabular}{r|lllllll}\n",
       " Gender & mean\\_dif\\_bar & sd\\_dif\\_bar & min\\_dif\\_bar & median\\_dif\\_bar & max\\_dif\\_bar & n\\\\\n",
       "\\hline\n",
       "\t 0            &  0.006227209 & 0.1882009    & -0.54        &  0.00        & 0.66         & 713         \\\\\n",
       "\t 1            & -0.042572816 & 0.1726681    & -0.64        & -0.04        & 0.64         & 412         \\\\\n",
       "\\end{tabular}\n"
      ],
      "text/markdown": [
       "\n",
       "Gender | mean_dif_bar | sd_dif_bar | min_dif_bar | median_dif_bar | max_dif_bar | n | \n",
       "|---|---|\n",
       "| 0            |  0.006227209 | 0.1882009    | -0.54        |  0.00        | 0.66         | 713          | \n",
       "| 1            | -0.042572816 | 0.1726681    | -0.64        | -0.04        | 0.64         | 412          | \n",
       "\n",
       "\n"
      ],
      "text/plain": [
       "  Gender mean_dif_bar sd_dif_bar min_dif_bar median_dif_bar max_dif_bar n  \n",
       "1 0       0.006227209 0.1882009  -0.54        0.00          0.66        713\n",
       "2 1      -0.042572816 0.1726681  -0.64       -0.04          0.64        412"
      ]
     },
     "metadata": {},
     "output_type": "display_data"
    }
   ],
   "source": [
    "dif_bar_m <- data_new$dif_bar[data_new$Gender == 1]\n",
    "dif_bar_f <- data_new$dif_bar[data_new$Gender == 0]\n",
    "mean_dif_bar_m <- mean(dif_bar_m)\n",
    "mean_dif_bar_f <- mean(dif_bar_f)\n",
    "\n",
    "df_gender <- data_new %>% \n",
    "  group_by(Gender) %>% \n",
    "  summarise(mean_dif_bar = mean(dif_bar),\n",
    "            sd_dif_bar = sd(dif_bar),\n",
    "            min_dif_bar = min(dif_bar),\n",
    "            median_dif_bar = median(dif_bar),\n",
    "            max_dif_bar = max(dif_bar),\n",
    "            n = n())\n",
    "\n",
    "head(df_gender)"
   ]
  },
  {
   "cell_type": "code",
   "execution_count": 24,
   "metadata": {
    "ExecuteTime": {
     "end_time": "2017-04-03T17:31:00.229494Z",
     "start_time": "2017-04-03T21:30:55.979Z"
    },
    "collapsed": false,
    "hide_input": true,
    "nbpresent": {
     "id": "b6b0208e-4d70-4397-a020-eee83d35ae56"
    },
    "run_control": {
     "frozen": false,
     "read_only": false
    }
   },
   "outputs": [
    {
     "data": {},
     "metadata": {},
     "output_type": "display_data"
    },
    {
     "data": {
      "image/png": "[encoded data removed]",
      "text/plain": [
       "plot without title"
      ]
     },
     "metadata": {},
     "output_type": "display_data"
    }
   ],
   "source": [
    "density_gender <- ggplot(data_new, aes(dif_bar, colour=Gender, fill=Gender))\n",
    "density_gender  <- density_gender + geom_density(alpha=0.3)\n",
    "density_gender"
   ]
  },
  {
   "cell_type": "markdown",
   "metadata": {
    "nbpresent": {
     "id": "976a6f9b-b333-441a-b542-35d6e898a788"
    }
   },
   "source": [
    "**Gender dif_bar: Is the difference significant ? **       \n",
    "$H_0$: $\\mu_M = \\mu_F$     \n",
    "$H_a$: $\\mu_M \\neq \\mu_F$    "
   ]
  },
  {
   "cell_type": "code",
   "execution_count": 25,
   "metadata": {
    "ExecuteTime": {
     "end_time": "2017-04-03T17:31:00.275526Z",
     "start_time": "2017-04-03T21:30:55.985Z"
    },
    "collapsed": false,
    "hide_input": true,
    "nbpresent": {
     "id": "99269f75-e9a9-4fbb-b1f7-3097eadc55e2"
    },
    "run_control": {
     "frozen": false,
     "read_only": false
    }
   },
   "outputs": [
    {
     "data": {
      "text/plain": [
       "\n",
       "\tTwo Sample t-test\n",
       "\n",
       "data:  dif_bar_m and dif_bar_f\n",
       "t = -4.3169, df = 1123, p-value = 1.722e-05\n",
       "alternative hypothesis: true difference in means is not equal to 0\n",
       "95 percent confidence interval:\n",
       " -0.07098022 -0.02661983\n",
       "sample estimates:\n",
       "   mean of x    mean of y \n",
       "-0.042572816  0.006227209 \n"
      ]
     },
     "metadata": {},
     "output_type": "display_data"
    }
   ],
   "source": [
    "# two sample t test \n",
    "t.test(dif_bar_m, dif_bar_f,\n",
    "       alternative = \"two.sided\", var.equal=TRUE)"
   ]
  },
  {
   "cell_type": "markdown",
   "metadata": {
    "collapsed": false,
    "run_control": {
     "frozen": false,
     "read_only": false
    }
   },
   "source": [
    "p-value = 1.911e-05 is very small. \n",
    "\n",
    "Hence, the dif_bar between male and female is statistically significant at 95% considence level."
   ]
  },
  {
   "cell_type": "markdown",
   "metadata": {
    "nbpresent": {
     "id": "c1080876-971e-45e0-9ae6-008295b5dc23"
    }
   },
   "source": [
    "### Class_rank vs. $\\bar{d}$"
   ]
  },
  {
   "cell_type": "code",
   "execution_count": 26,
   "metadata": {
    "ExecuteTime": {
     "end_time": "2017-04-03T17:31:00.346578Z",
     "start_time": "2017-04-03T21:30:55.994Z"
    },
    "collapsed": false,
    "hide_input": true,
    "nbpresent": {
     "id": "56472090-2fa6-43ca-b78b-7b09ad4fe462"
    },
    "run_control": {
     "frozen": false,
     "read_only": false
    },
    "scrolled": true
   },
   "outputs": [
    {
     "data": {
      "text/html": [
       "<table>\n",
       "<thead><tr><th scope=col>class_rank</th><th scope=col>mean_dif_bar</th><th scope=col>sd_dif_bar</th><th scope=col>min_dif_bar</th><th scope=col>median_dif_bar</th><th scope=col>max_dif_bar</th><th scope=col>n</th></tr></thead>\n",
       "<tbody>\n",
       "\t<tr><td>1          </td><td>-0.02449761</td><td>0.1917251  </td><td>-0.60      </td><td>-0.04      </td><td>0.64       </td><td>209        </td></tr>\n",
       "\t<tr><td>2          </td><td>-0.01393939</td><td>0.1962819  </td><td>-0.64      </td><td>-0.02      </td><td>0.52       </td><td>231        </td></tr>\n",
       "\t<tr><td>3          </td><td>-0.01448276</td><td>0.1853485  </td><td>-0.64      </td><td>-0.02      </td><td>0.62       </td><td>261        </td></tr>\n",
       "\t<tr><td>4          </td><td>-0.01493750</td><td>0.1749465  </td><td>-0.54      </td><td>-0.02      </td><td>0.56       </td><td>320        </td></tr>\n",
       "\t<tr><td>5          </td><td> 0.04871795</td><td>0.2095506  </td><td>-0.30      </td><td> 0.00      </td><td>0.66       </td><td> 39        </td></tr>\n",
       "\t<tr><td>6          </td><td> 0.02923077</td><td>0.1206274  </td><td>-0.20      </td><td> 0.00      </td><td>0.34       </td><td> 65        </td></tr>\n",
       "</tbody>\n",
       "</table>\n"
      ],
      "text/latex": [
       "\\begin{tabular}{r|lllllll}\n",
       " class\\_rank & mean\\_dif\\_bar & sd\\_dif\\_bar & min\\_dif\\_bar & median\\_dif\\_bar & max\\_dif\\_bar & n\\\\\n",
       "\\hline\n",
       "\t 1           & -0.02449761 & 0.1917251   & -0.60       & -0.04       & 0.64        & 209        \\\\\n",
       "\t 2           & -0.01393939 & 0.1962819   & -0.64       & -0.02       & 0.52        & 231        \\\\\n",
       "\t 3           & -0.01448276 & 0.1853485   & -0.64       & -0.02       & 0.62        & 261        \\\\\n",
       "\t 4           & -0.01493750 & 0.1749465   & -0.54       & -0.02       & 0.56        & 320        \\\\\n",
       "\t 5           &  0.04871795 & 0.2095506   & -0.30       &  0.00       & 0.66        &  39        \\\\\n",
       "\t 6           &  0.02923077 & 0.1206274   & -0.20       &  0.00       & 0.34        &  65        \\\\\n",
       "\\end{tabular}\n"
      ],
      "text/markdown": [
       "\n",
       "class_rank | mean_dif_bar | sd_dif_bar | min_dif_bar | median_dif_bar | max_dif_bar | n | \n",
       "|---|---|---|---|---|---|\n",
       "| 1           | -0.02449761 | 0.1917251   | -0.60       | -0.04       | 0.64        | 209         | \n",
       "| 2           | -0.01393939 | 0.1962819   | -0.64       | -0.02       | 0.52        | 231         | \n",
       "| 3           | -0.01448276 | 0.1853485   | -0.64       | -0.02       | 0.62        | 261         | \n",
       "| 4           | -0.01493750 | 0.1749465   | -0.54       | -0.02       | 0.56        | 320         | \n",
       "| 5           |  0.04871795 | 0.2095506   | -0.30       |  0.00       | 0.66        |  39         | \n",
       "| 6           |  0.02923077 | 0.1206274   | -0.20       |  0.00       | 0.34        |  65         | \n",
       "\n",
       "\n"
      ],
      "text/plain": [
       "  class_rank mean_dif_bar sd_dif_bar min_dif_bar median_dif_bar max_dif_bar n  \n",
       "1 1          -0.02449761  0.1917251  -0.60       -0.04          0.64        209\n",
       "2 2          -0.01393939  0.1962819  -0.64       -0.02          0.52        231\n",
       "3 3          -0.01448276  0.1853485  -0.64       -0.02          0.62        261\n",
       "4 4          -0.01493750  0.1749465  -0.54       -0.02          0.56        320\n",
       "5 5           0.04871795  0.2095506  -0.30        0.00          0.66         39\n",
       "6 6           0.02923077  0.1206274  -0.20        0.00          0.34         65"
      ]
     },
     "metadata": {},
     "output_type": "display_data"
    }
   ],
   "source": [
    "data_new$class_rank[data_new$class_rank == \"Freshman\"] <- 1\n",
    "data_new$class_rank[data_new$class_rank == \"Sophomore\"] <- 2\n",
    "data_new$class_rank[data_new$class_rank == \"Junior\"] <- 3\n",
    "data_new$class_rank[data_new$class_rank == \"Senior\"] <- 4\n",
    "data_new$class_rank[data_new$class_rank == \"Grad Student\"] <- 5\n",
    "data_new$class_rank[data_new$class_rank == \"Professor\"] <- 6\n",
    "\n",
    "df_class_rank <- data_new %>% \n",
    "  group_by(class_rank) %>% \n",
    "  summarise(mean_dif_bar = mean(dif_bar),\n",
    "            sd_dif_bar = sd(dif_bar),\n",
    "            min_dif_bar = min(dif_bar),\n",
    "            median_dif_bar = median(dif_bar),\n",
    "            max_dif_bar = max(dif_bar),\n",
    "            n = n()) \n",
    "\n",
    "head(df_class_rank)"
   ]
  },
  {
   "cell_type": "markdown",
   "metadata": {
    "nbpresent": {
     "id": "2326efaa-8e60-454b-92a1-346dc360a5c0"
    }
   },
   "source": [
    "\"Freshman\" = 1      \n",
    "\"Sophomore\" = 2    \n",
    "\"Junior\" = 3        \n",
    "\"Senior\" = 4                         \n",
    "\"Grad Student\" = 5      \n",
    "\"Professor\" = 6       "
   ]
  },
  {
   "cell_type": "code",
   "execution_count": 27,
   "metadata": {
    "ExecuteTime": {
     "end_time": "2017-04-03T17:31:00.389607Z",
     "start_time": "2017-04-03T21:30:56.002Z"
    },
    "collapsed": true,
    "hide_input": true,
    "nbpresent": {
     "id": "fa0350d5-4427-4c37-8589-2e02c3f8e38c"
    },
    "run_control": {
     "frozen": false,
     "read_only": false
    }
   },
   "outputs": [],
   "source": [
    "dif_bar_Freshman <- data_new$dif_bar[data_new$class_rank == 1]\n",
    "dif_bar_Senior <- data_new$dif_bar[data_new$class_rank == 2]\n",
    "dif_bar_Sophomore <- data_new$dif_bar[data_new$class_rank == 3]\n",
    "dif_bar_Junior <- data_new$dif_bar[data_new$class_rank == 4]\n",
    "dif_bar_Professor <- data_new$dif_bar[data_new$class_rank == 6]\n",
    "dif_bar_GradStudent <- data_new$dif_bar[data_new$class_rank == 5]"
   ]
  },
  {
   "cell_type": "code",
   "execution_count": 28,
   "metadata": {
    "ExecuteTime": {
     "end_time": "2017-04-03T17:31:00.480173Z",
     "start_time": "2017-04-03T21:30:56.009Z"
    },
    "collapsed": false,
    "hide_input": true,
    "nbpresent": {
     "id": "892d3166-f2d8-4502-b335-1b43e4e3dfc1"
    },
    "run_control": {
     "frozen": false,
     "read_only": false
    }
   },
   "outputs": [
    {
     "name": "stderr",
     "output_type": "stream",
     "text": [
      "Warning message in bxp(structure(list(stats = structure(c(-0.46, -0.16, -0.03, 0.06, :\n",
      "\"some notches went outside hinges ('box'): maybe set notch=FALSE\""
     ]
    },
    {
     "data": {
      "image/png": "[encoded data removed]",
      "text/plain": [
       "Plot with title \"Notched Boxplot: dif_bar by Class Rank & Gender\""
      ]
     },
     "metadata": {},
     "output_type": "display_data"
    }
   ],
   "source": [
    "boxplot(dif_bar~class_rank*Gender, \n",
    "        data = data_new, notch=TRUE, \n",
    "  col = (c(\"pink\",\"pink\",\"pink\",\"pink\",\"pink\",\"pink\", \"skyblue\",\"skyblue\",\"skyblue\",\"skyblue\",\"skyblue\",\"skyblue\")),\n",
    "  main=\"Notched Boxplot: dif_bar by Class Rank & Gender\",\n",
    "  xlab = \"Class Rank\")"
   ]
  },
  {
   "cell_type": "markdown",
   "metadata": {},
   "source": [
    "From the boxplot, we can easily see that the female students are more likely to underestimate themselves. We found more male students who overestimate their score a lot, while several more female students much underestimate their scores. It is interesting to see that we have female senior students who much underestimate their scores as well as much overestimate their scores.           \n",
    "\n",
    "We don’t have enough data to support that the professors and graduate students have significant difference in gender due to the lack of data. \n"
   ]
  },
  {
   "cell_type": "code",
   "execution_count": 29,
   "metadata": {
    "ExecuteTime": {
     "end_time": "2017-04-03T17:31:00.943630Z",
     "start_time": "2017-04-03T21:30:56.014Z"
    },
    "collapsed": false,
    "hide_input": true,
    "nbpresent": {
     "id": "5dd1445a-df6b-4e80-9b28-146212b606c9"
    },
    "run_control": {
     "frozen": false,
     "read_only": false
    }
   },
   "outputs": [
    {
     "data": {},
     "metadata": {},
     "output_type": "display_data"
    },
    {
     "data": {
      "image/png": "[encoded data removed]",
      "text/plain": [
       "plot without title"
      ]
     },
     "metadata": {},
     "output_type": "display_data"
    }
   ],
   "source": [
    "density_class_rank  <- ggplot(data_new, aes(dif_bar, colour=class_rank, fill=class_rank))\n",
    "density_class_rank  <- density_class_rank + geom_density(alpha=0.1)\n",
    "density_class_rank"
   ]
  },
  {
   "cell_type": "markdown",
   "metadata": {
    "nbpresent": {
     "id": "ce78e6b5-0c72-465b-973d-625c263bad38"
    }
   },
   "source": [
    "#### Comparing Undergraduate Students "
   ]
  },
  {
   "cell_type": "code",
   "execution_count": 30,
   "metadata": {
    "ExecuteTime": {
     "end_time": "2017-04-03T17:31:01.354419Z",
     "start_time": "2017-04-03T21:30:56.019Z"
    },
    "collapsed": false,
    "hide_input": true,
    "nbpresent": {
     "id": "2aa2a78a-a0c7-4861-8d0b-646f5412a36a"
    },
    "run_control": {
     "frozen": false,
     "read_only": false
    }
   },
   "outputs": [
    {
     "data": {},
     "metadata": {},
     "output_type": "display_data"
    },
    {
     "data": {
      "image/png": "[encoded data removed]",
      "text/plain": [
       "plot without title"
      ]
     },
     "metadata": {},
     "output_type": "display_data"
    }
   ],
   "source": [
    "compare1 <- c(1, 2, 3, 4)\n",
    "compare1_df <- subset(data_new, class_rank %in% compare1)\n",
    "\n",
    "density_class_rank  <- ggplot(compare1_df, aes(dif_bar, colour=class_rank, fill=class_rank))\n",
    "density_class_rank  <- density_class_rank + geom_density(alpha=0.05)\n",
    "density_class_rank"
   ]
  },
  {
   "cell_type": "markdown",
   "metadata": {},
   "source": [
    "This density plot is more persuasive since we have enough data of undergraduate students. \n",
    "\n",
    "We have enough data records for all four years of undergraduate students. Hence, the distribution of dif_bar for the undergraduate students is more persuasive than graduate students and professors. From the density plot above, we can see that the fourth-year students have a more distinguish distribution than the other three levels’. We also observe a small peak on the bottom-left of the graph. It indicates that the senior students are more likely to get a correct estimation than the other three levels. "
   ]
  },
  {
   "cell_type": "markdown",
   "metadata": {
    "nbpresent": {
     "id": "0d8acb89-2f25-4e6c-ab75-ab06c3a57826"
    }
   },
   "source": [
    "#### Comparing the 1st, 2nd year with the professors (huge difference) "
   ]
  },
  {
   "cell_type": "code",
   "execution_count": 31,
   "metadata": {
    "ExecuteTime": {
     "end_time": "2017-04-03T17:31:01.779221Z",
     "start_time": "2017-04-03T21:30:56.025Z"
    },
    "collapsed": false,
    "hide_input": true,
    "nbpresent": {
     "id": "e7531d67-a1d7-4a31-b366-204050604e38"
    },
    "run_control": {
     "frozen": false,
     "read_only": false
    }
   },
   "outputs": [
    {
     "data": {},
     "metadata": {},
     "output_type": "display_data"
    },
    {
     "data": {
      "image/png": "[encoded data removed]",
      "text/plain": [
       "plot without title"
      ]
     },
     "metadata": {},
     "output_type": "display_data"
    }
   ],
   "source": [
    "compare2 <- c(1, 2, 6)\n",
    "compare2_df <- subset(data_new, data_new$class_rank %in% compare2)\n",
    "\n",
    "density_class_rank  <- ggplot(compare2_df, aes(dif_bar, colour=class_rank, fill=class_rank))\n",
    "density_class_rank  <- density_class_rank + geom_density(alpha=0.20)\n",
    "density_class_rank"
   ]
  },
  {
   "cell_type": "markdown",
   "metadata": {
    "nbpresent": {
     "id": "83e95ae3-5051-4fcf-8be1-9446ac37241d"
    }
   },
   "source": [
    "### Gender + Class_rank vs. $\\bar{d}$"
   ]
  },
  {
   "cell_type": "code",
   "execution_count": 32,
   "metadata": {
    "ExecuteTime": {
     "end_time": "2017-04-03T17:31:01.819749Z",
     "start_time": "2017-04-03T21:30:56.033Z"
    },
    "collapsed": false,
    "hide_input": true,
    "nbpresent": {
     "id": "4e4502d1-44ff-47f4-9dee-14379a8b0008"
    },
    "run_control": {
     "frozen": false,
     "read_only": false
    }
   },
   "outputs": [
    {
     "data": {
      "text/html": [
       "<table>\n",
       "<thead><tr><th scope=col>class_rank</th><th scope=col>Gender</th><th scope=col>mean_dif_bar</th></tr></thead>\n",
       "<tbody>\n",
       "\t<tr><td>1           </td><td>0           </td><td>-0.017826087</td></tr>\n",
       "\t<tr><td>1           </td><td>1           </td><td>-0.037464789</td></tr>\n",
       "\t<tr><td>2           </td><td>0           </td><td> 0.006783626</td></tr>\n",
       "\t<tr><td>2           </td><td>1           </td><td>-0.073000000</td></tr>\n",
       "\t<tr><td>3           </td><td>0           </td><td> 0.024250000</td></tr>\n",
       "\t<tr><td>3           </td><td>1           </td><td>-0.075841584</td></tr>\n",
       "</tbody>\n",
       "</table>\n"
      ],
      "text/latex": [
       "\\begin{tabular}{r|lll}\n",
       " class\\_rank & Gender & mean\\_dif\\_bar\\\\\n",
       "\\hline\n",
       "\t 1            & 0            & -0.017826087\\\\\n",
       "\t 1            & 1            & -0.037464789\\\\\n",
       "\t 2            & 0            &  0.006783626\\\\\n",
       "\t 2            & 1            & -0.073000000\\\\\n",
       "\t 3            & 0            &  0.024250000\\\\\n",
       "\t 3            & 1            & -0.075841584\\\\\n",
       "\\end{tabular}\n"
      ],
      "text/markdown": [
       "\n",
       "class_rank | Gender | mean_dif_bar | \n",
       "|---|---|---|---|---|---|\n",
       "| 1            | 0            | -0.017826087 | \n",
       "| 1            | 1            | -0.037464789 | \n",
       "| 2            | 0            |  0.006783626 | \n",
       "| 2            | 1            | -0.073000000 | \n",
       "| 3            | 0            |  0.024250000 | \n",
       "| 3            | 1            | -0.075841584 | \n",
       "\n",
       "\n"
      ],
      "text/plain": [
       "  class_rank Gender mean_dif_bar\n",
       "1 1          0      -0.017826087\n",
       "2 1          1      -0.037464789\n",
       "3 2          0       0.006783626\n",
       "4 2          1      -0.073000000\n",
       "5 3          0       0.024250000\n",
       "6 3          1      -0.075841584"
      ]
     },
     "metadata": {},
     "output_type": "display_data"
    }
   ],
   "source": [
    "df_class_gender <- data_new %>% \n",
    "  group_by(class_rank, Gender) %>% \n",
    "  summarise(mean_dif_bar = mean(dif_bar)) \n",
    "\n",
    "head(df_class_gender)"
   ]
  },
  {
   "cell_type": "code",
   "execution_count": 33,
   "metadata": {
    "ExecuteTime": {
     "end_time": "2017-04-03T17:31:02.161729Z",
     "start_time": "2017-04-03T21:30:56.038Z"
    },
    "collapsed": false,
    "hide_input": true,
    "nbpresent": {
     "id": "04c6e0bb-ecf4-419e-a709-4bb2a757b974"
    },
    "run_control": {
     "frozen": false,
     "read_only": false
    }
   },
   "outputs": [
    {
     "data": {},
     "metadata": {},
     "output_type": "display_data"
    },
    {
     "data": {
      "image/png": "[encoded data removed]",
      "text/plain": [
       "plot without title"
      ]
     },
     "metadata": {},
     "output_type": "display_data"
    }
   ],
   "source": [
    "heatmap_class_gender <- ggplot(data = df_class_gender, \n",
    "       aes(x = Gender, y = class_rank)) +\n",
    "  geom_tile(aes(fill = mean_dif_bar)) \n",
    "\n",
    "#set up a coloring scheme using colorRampPalette\n",
    "# x <- 1:255/255\n",
    "# c(x[34],x[143],x[200])    # test color \n",
    "red=rgb(0.95,0.45,0.1); green=rgb(0,1,0); blue=rgb(0.15,0.55,0.8); white=rgb(1,1,1); black=rgb(0,0,0)\n",
    "\n",
    "RtoWrange<-colorRampPalette(c(red, white ))\n",
    "WtoGrange<-colorRampPalette(c(white, blue)) \n",
    "\n",
    "heatmap_class_gender <- heatmap_class_gender + \n",
    "  scale_fill_gradient2(low=RtoWrange(100), mid=WtoGrange(100), high=\"gray\")\n",
    "heatmap_class_gender"
   ]
  },
  {
   "cell_type": "markdown",
   "metadata": {},
   "source": [
    "The orange color represents that people in that group overestimate themselves, and the blue color represents that people in that group underestimate themselves. The saturation of colors represents the level of the over or under estimation. \n",
    "\n",
    "From the heatmap, we can easily find that the second and third year male students are more likely to overestimate themselves. I hesitate to conclude that the female professors and female graduate students are more likely to underestimate themselves since we don't have lots of data to support it. Moreover, since their scores are pretty high, they have less room to overestimate themselves.\n"
   ]
  },
  {
   "cell_type": "markdown",
   "metadata": {},
   "source": [
    "### major_science"
   ]
  },
  {
   "cell_type": "code",
   "execution_count": 34,
   "metadata": {
    "ExecuteTime": {
     "end_time": "2017-04-03T17:31:02.197253Z",
     "start_time": "2017-04-03T21:30:56.046Z"
    },
    "collapsed": true
   },
   "outputs": [],
   "source": [
    "dif_bar_1 <- data_new$dif_bar[data_new$major_science == 1]\n",
    "dif_bar_2 <- data_new$dif_bar[data_new$major_science == 0]\n",
    "\n",
    "mean_dif_bar_1 <- mean(dif_bar_1, na.rm = TRUE)\n",
    "mean_dif_bar_2 <- mean(dif_bar_2, na.rm = TRUE)"
   ]
  },
  {
   "cell_type": "code",
   "execution_count": 35,
   "metadata": {
    "ExecuteTime": {
     "end_time": "2017-04-03T17:31:02.236782Z",
     "start_time": "2017-04-03T21:30:56.055Z"
    },
    "collapsed": false
   },
   "outputs": [
    {
     "data": {
      "text/html": [
       "<table>\n",
       "<thead><tr><th scope=col>major_science</th><th scope=col>mean_dif_bar</th><th scope=col>sd_dif_bar</th><th scope=col>min_dif_bar</th><th scope=col>median_dif_bar</th><th scope=col>max_dif_bar</th><th scope=col>n</th></tr></thead>\n",
       "<tbody>\n",
       "\t<tr><td>0          </td><td> 0.01245989</td><td>0.1972406  </td><td>-0.60      </td><td> 0.00      </td><td>0.66       </td><td>374        </td></tr>\n",
       "\t<tr><td>1          </td><td>-0.02364847</td><td>0.1760970  </td><td>-0.64      </td><td>-0.02      </td><td>0.64       </td><td>751        </td></tr>\n",
       "</tbody>\n",
       "</table>\n"
      ],
      "text/latex": [
       "\\begin{tabular}{r|lllllll}\n",
       " major\\_science & mean\\_dif\\_bar & sd\\_dif\\_bar & min\\_dif\\_bar & median\\_dif\\_bar & max\\_dif\\_bar & n\\\\\n",
       "\\hline\n",
       "\t 0           &  0.01245989 & 0.1972406   & -0.60       &  0.00       & 0.66        & 374        \\\\\n",
       "\t 1           & -0.02364847 & 0.1760970   & -0.64       & -0.02       & 0.64        & 751        \\\\\n",
       "\\end{tabular}\n"
      ],
      "text/markdown": [
       "\n",
       "major_science | mean_dif_bar | sd_dif_bar | min_dif_bar | median_dif_bar | max_dif_bar | n | \n",
       "|---|---|\n",
       "| 0           |  0.01245989 | 0.1972406   | -0.60       |  0.00       | 0.66        | 374         | \n",
       "| 1           | -0.02364847 | 0.1760970   | -0.64       | -0.02       | 0.64        | 751         | \n",
       "\n",
       "\n"
      ],
      "text/plain": [
       "  major_science mean_dif_bar sd_dif_bar min_dif_bar median_dif_bar max_dif_bar\n",
       "1 0              0.01245989  0.1972406  -0.60        0.00          0.66       \n",
       "2 1             -0.02364847  0.1760970  -0.64       -0.02          0.64       \n",
       "  n  \n",
       "1 374\n",
       "2 751"
      ]
     },
     "metadata": {},
     "output_type": "display_data"
    }
   ],
   "source": [
    "df_major_science <- data_new %>% \n",
    "  group_by(major_science) %>% \n",
    "  summarise(mean_dif_bar = mean(dif_bar),\n",
    "            sd_dif_bar = sd(dif_bar),\n",
    "            min_dif_bar = min(dif_bar),\n",
    "            median_dif_bar = median(dif_bar),\n",
    "            max_dif_bar = max(dif_bar),\n",
    "            n = n())\n",
    "\n",
    "head(df_major_science)"
   ]
  },
  {
   "cell_type": "markdown",
   "metadata": {},
   "source": [
    "Major_science dif bar test: is the difference sig ?   \n",
    "$H_0$: $\\mu_1 = \\mu_0$    \n",
    "$H_a$: $\\mu_1 \\neq \\mu_0$      "
   ]
  },
  {
   "cell_type": "code",
   "execution_count": 36,
   "metadata": {
    "ExecuteTime": {
     "end_time": "2017-04-03T17:31:02.271127Z",
     "start_time": "2017-04-03T21:30:56.061Z"
    },
    "collapsed": false
   },
   "outputs": [
    {
     "data": {
      "text/plain": [
       "\n",
       "\tTwo Sample t-test\n",
       "\n",
       "data:  dif_bar_1 and dif_bar_2\n",
       "t = -3.1111, df = 1123, p-value = 0.001911\n",
       "alternative hypothesis: true difference in means is not equal to 0\n",
       "95 percent confidence interval:\n",
       " -0.05888100 -0.01333573\n",
       "sample estimates:\n",
       "  mean of x   mean of y \n",
       "-0.02364847  0.01245989 \n"
      ]
     },
     "metadata": {},
     "output_type": "display_data"
    }
   ],
   "source": [
    "# two sample t test \n",
    "t.test(dif_bar_1, dif_bar_2,\n",
    "       alternative = \"two.sided\", var.equal=TRUE)"
   ]
  },
  {
   "cell_type": "code",
   "execution_count": 37,
   "metadata": {
    "ExecuteTime": {
     "end_time": "2017-04-03T17:31:02.624892Z",
     "start_time": "2017-04-03T21:30:56.066Z"
    },
    "collapsed": false
   },
   "outputs": [
    {
     "data": {},
     "metadata": {},
     "output_type": "display_data"
    },
    {
     "data": {
      "image/png": "[encoded data removed]",
      "text/plain": [
       "plot without title"
      ]
     },
     "metadata": {},
     "output_type": "display_data"
    }
   ],
   "source": [
    "density_major_science <- ggplot(data_new, aes(dif_bar, colour=major_science, fill=major_science))\n",
    "density_major_science  <- density_major_science + geom_density(alpha=0.4)\n",
    "density_major_science"
   ]
  },
  {
   "cell_type": "markdown",
   "metadata": {},
   "source": [
    "### Institution "
   ]
  },
  {
   "cell_type": "code",
   "execution_count": 38,
   "metadata": {
    "ExecuteTime": {
     "end_time": "2017-04-03T17:31:02.692939Z",
     "start_time": "2017-04-03T21:30:56.072Z"
    },
    "collapsed": false
   },
   "outputs": [
    {
     "data": {
      "text/html": [
       "<table>\n",
       "<thead><tr><th scope=col>Institution</th><th scope=col>mean_dif_bar</th><th scope=col>sd_dif_bar</th><th scope=col>min_dif_bar</th><th scope=col>median_dif_bar</th><th scope=col>max_dif_bar</th><th scope=col>n</th></tr></thead>\n",
       "<tbody>\n",
       "\t<tr><td>1           </td><td>-0.043174603</td><td>0.1667925   </td><td>-0.64       </td><td>-0.04       </td><td>0.60        </td><td>504         </td></tr>\n",
       "\t<tr><td>4           </td><td>-0.002077295</td><td>0.2022118   </td><td>-0.64       </td><td>-0.02       </td><td>0.62        </td><td>414         </td></tr>\n",
       "\t<tr><td>5           </td><td> 0.046349206</td><td>0.1760801   </td><td>-0.36       </td><td> 0.02       </td><td>0.64        </td><td> 63         </td></tr>\n",
       "\t<tr><td>11          </td><td> 0.030000000</td><td>0.1786312   </td><td>-0.36       </td><td> 0.03       </td><td>0.46        </td><td> 34         </td></tr>\n",
       "\t<tr><td>12          </td><td>-0.005000000</td><td>0.1518867   </td><td>-0.30       </td><td>-0.01       </td><td>0.28        </td><td> 24         </td></tr>\n",
       "\t<tr><td>3           </td><td> 0.093636364</td><td>0.1686231   </td><td>-0.26       </td><td> 0.08       </td><td>0.42        </td><td> 22         </td></tr>\n",
       "</tbody>\n",
       "</table>\n"
      ],
      "text/latex": [
       "\\begin{tabular}{r|lllllll}\n",
       " Institution & mean\\_dif\\_bar & sd\\_dif\\_bar & min\\_dif\\_bar & median\\_dif\\_bar & max\\_dif\\_bar & n\\\\\n",
       "\\hline\n",
       "\t 1            & -0.043174603 & 0.1667925    & -0.64        & -0.04        & 0.60         & 504         \\\\\n",
       "\t 4            & -0.002077295 & 0.2022118    & -0.64        & -0.02        & 0.62         & 414         \\\\\n",
       "\t 5            &  0.046349206 & 0.1760801    & -0.36        &  0.02        & 0.64         &  63         \\\\\n",
       "\t 11           &  0.030000000 & 0.1786312    & -0.36        &  0.03        & 0.46         &  34         \\\\\n",
       "\t 12           & -0.005000000 & 0.1518867    & -0.30        & -0.01        & 0.28         &  24         \\\\\n",
       "\t 3            &  0.093636364 & 0.1686231    & -0.26        &  0.08        & 0.42         &  22         \\\\\n",
       "\\end{tabular}\n"
      ],
      "text/markdown": [
       "\n",
       "Institution | mean_dif_bar | sd_dif_bar | min_dif_bar | median_dif_bar | max_dif_bar | n | \n",
       "|---|---|---|---|---|---|\n",
       "| 1            | -0.043174603 | 0.1667925    | -0.64        | -0.04        | 0.60         | 504          | \n",
       "| 4            | -0.002077295 | 0.2022118    | -0.64        | -0.02        | 0.62         | 414          | \n",
       "| 5            |  0.046349206 | 0.1760801    | -0.36        |  0.02        | 0.64         |  63          | \n",
       "| 11           |  0.030000000 | 0.1786312    | -0.36        |  0.03        | 0.46         |  34          | \n",
       "| 12           | -0.005000000 | 0.1518867    | -0.30        | -0.01        | 0.28         |  24          | \n",
       "| 3            |  0.093636364 | 0.1686231    | -0.26        |  0.08        | 0.42         |  22          | \n",
       "\n",
       "\n"
      ],
      "text/plain": [
       "  Institution mean_dif_bar sd_dif_bar min_dif_bar median_dif_bar max_dif_bar\n",
       "1 1           -0.043174603 0.1667925  -0.64       -0.04          0.60       \n",
       "2 4           -0.002077295 0.2022118  -0.64       -0.02          0.62       \n",
       "3 5            0.046349206 0.1760801  -0.36        0.02          0.64       \n",
       "4 11           0.030000000 0.1786312  -0.36        0.03          0.46       \n",
       "5 12          -0.005000000 0.1518867  -0.30       -0.01          0.28       \n",
       "6 3            0.093636364 0.1686231  -0.26        0.08          0.42       \n",
       "  n  \n",
       "1 504\n",
       "2 414\n",
       "3  63\n",
       "4  34\n",
       "5  24\n",
       "6  22"
      ]
     },
     "metadata": {},
     "output_type": "display_data"
    },
    {
     "data": {
      "text/html": [
       "<table>\n",
       "<thead><tr><th scope=col>Institution</th><th scope=col>mean_dif_bar</th><th scope=col>sd_dif_bar</th><th scope=col>min_dif_bar</th><th scope=col>median_dif_bar</th><th scope=col>max_dif_bar</th><th scope=col>n</th></tr></thead>\n",
       "<tbody>\n",
       "\t<tr><td>1           </td><td>-0.043174603</td><td>0.1667925   </td><td>-0.64       </td><td>-0.04       </td><td>0.60        </td><td>504         </td></tr>\n",
       "\t<tr><td>4           </td><td>-0.002077295</td><td>0.2022118   </td><td>-0.64       </td><td>-0.02       </td><td>0.62        </td><td>414         </td></tr>\n",
       "\t<tr><td>5           </td><td> 0.046349206</td><td>0.1760801   </td><td>-0.36       </td><td> 0.02       </td><td>0.64        </td><td> 63         </td></tr>\n",
       "</tbody>\n",
       "</table>\n"
      ],
      "text/latex": [
       "\\begin{tabular}{r|lllllll}\n",
       " Institution & mean\\_dif\\_bar & sd\\_dif\\_bar & min\\_dif\\_bar & median\\_dif\\_bar & max\\_dif\\_bar & n\\\\\n",
       "\\hline\n",
       "\t 1            & -0.043174603 & 0.1667925    & -0.64        & -0.04        & 0.60         & 504         \\\\\n",
       "\t 4            & -0.002077295 & 0.2022118    & -0.64        & -0.02        & 0.62         & 414         \\\\\n",
       "\t 5            &  0.046349206 & 0.1760801    & -0.36        &  0.02        & 0.64         &  63         \\\\\n",
       "\\end{tabular}\n"
      ],
      "text/markdown": [
       "\n",
       "Institution | mean_dif_bar | sd_dif_bar | min_dif_bar | median_dif_bar | max_dif_bar | n | \n",
       "|---|---|---|\n",
       "| 1            | -0.043174603 | 0.1667925    | -0.64        | -0.04        | 0.60         | 504          | \n",
       "| 4            | -0.002077295 | 0.2022118    | -0.64        | -0.02        | 0.62         | 414          | \n",
       "| 5            |  0.046349206 | 0.1760801    | -0.36        |  0.02        | 0.64         |  63          | \n",
       "\n",
       "\n"
      ],
      "text/plain": [
       "  Institution mean_dif_bar sd_dif_bar min_dif_bar median_dif_bar max_dif_bar\n",
       "1 1           -0.043174603 0.1667925  -0.64       -0.04          0.60       \n",
       "2 4           -0.002077295 0.2022118  -0.64       -0.02          0.62       \n",
       "3 5            0.046349206 0.1760801  -0.36        0.02          0.64       \n",
       "  n  \n",
       "1 504\n",
       "2 414\n",
       "3  63"
      ]
     },
     "metadata": {},
     "output_type": "display_data"
    }
   ],
   "source": [
    "df_institution <- data_new %>% \n",
    "  group_by(Institution) %>% \n",
    "  summarise(mean_dif_bar = mean(dif_bar),\n",
    "            sd_dif_bar = sd(dif_bar),\n",
    "            min_dif_bar = min(dif_bar),\n",
    "            median_dif_bar = median(dif_bar),\n",
    "            max_dif_bar = max(dif_bar),\n",
    "            n = n()) %>% \n",
    "    arrange(desc(n))\n",
    "\n",
    "df_institution2 <- data_new %>% \n",
    "  group_by(Institution) %>% \n",
    "  filter(Institution == 1 | Institution == 5 | Institution == 4) %>% \n",
    "  summarise(mean_dif_bar = mean(dif_bar),\n",
    "            sd_dif_bar = sd(dif_bar),\n",
    "            min_dif_bar = min(dif_bar),\n",
    "            median_dif_bar = median(dif_bar),\n",
    "            max_dif_bar = max(dif_bar),\n",
    "            n = n()) %>% \n",
    "    arrange(desc(n))\n",
    "\n",
    "head(df_institution)\n",
    "head(df_institution2)"
   ]
  },
  {
   "cell_type": "code",
   "execution_count": 39,
   "metadata": {
    "ExecuteTime": {
     "end_time": "2017-04-03T17:31:03.083716Z",
     "start_time": "2017-04-03T21:30:56.077Z"
    },
    "collapsed": false
   },
   "outputs": [
    {
     "data": {},
     "metadata": {},
     "output_type": "display_data"
    },
    {
     "data": {
      "image/png": "[encoded data removed]",
      "text/plain": [
       "plot without title"
      ]
     },
     "metadata": {},
     "output_type": "display_data"
    }
   ],
   "source": [
    "density_institution2 <- ggplot(data_new[which (data_new$Institution == 1 | data_new$Institution == 4 | data_new$Institution == 5),], \n",
    "                               aes(dif_bar, colour= Institution, fill = Institution))\n",
    "density_institution2  <- density_institution2 + geom_density(alpha=0.05)\n",
    "density_institution2"
   ]
  },
  {
   "cell_type": "markdown",
   "metadata": {},
   "source": [
    "Since we only have over 63 observations for these three institutions, I think it makes sense to only plot them three. The density plot above indicates that Institution E has a very different distribution comparing to Institution A and D. It may worth digging the reason behind it. "
   ]
  },
  {
   "cell_type": "code",
   "execution_count": 40,
   "metadata": {
    "ExecuteTime": {
     "end_time": "2017-04-03T17:31:03.124245Z",
     "start_time": "2017-04-03T21:30:56.083Z"
    },
    "collapsed": false
   },
   "outputs": [
    {
     "data": {
      "text/html": [
       "<table>\n",
       "<thead><tr><th scope=col>Institution</th><th scope=col>Gender</th><th scope=col>mean_dif_bar</th></tr></thead>\n",
       "<tbody>\n",
       "\t<tr><td>1           </td><td>0           </td><td>-0.027075812</td></tr>\n",
       "\t<tr><td>1           </td><td>1           </td><td>-0.062819383</td></tr>\n",
       "\t<tr><td>10          </td><td>0           </td><td> 0.036666667</td></tr>\n",
       "\t<tr><td>10          </td><td>1           </td><td> 0.041538462</td></tr>\n",
       "\t<tr><td>11          </td><td>0           </td><td>-0.002857143</td></tr>\n",
       "\t<tr><td>11          </td><td>1           </td><td> 0.083076923</td></tr>\n",
       "</tbody>\n",
       "</table>\n"
      ],
      "text/latex": [
       "\\begin{tabular}{r|lll}\n",
       " Institution & Gender & mean\\_dif\\_bar\\\\\n",
       "\\hline\n",
       "\t 1            & 0            & -0.027075812\\\\\n",
       "\t 1            & 1            & -0.062819383\\\\\n",
       "\t 10           & 0            &  0.036666667\\\\\n",
       "\t 10           & 1            &  0.041538462\\\\\n",
       "\t 11           & 0            & -0.002857143\\\\\n",
       "\t 11           & 1            &  0.083076923\\\\\n",
       "\\end{tabular}\n"
      ],
      "text/markdown": [
       "\n",
       "Institution | Gender | mean_dif_bar | \n",
       "|---|---|---|---|---|---|\n",
       "| 1            | 0            | -0.027075812 | \n",
       "| 1            | 1            | -0.062819383 | \n",
       "| 10           | 0            |  0.036666667 | \n",
       "| 10           | 1            |  0.041538462 | \n",
       "| 11           | 0            | -0.002857143 | \n",
       "| 11           | 1            |  0.083076923 | \n",
       "\n",
       "\n"
      ],
      "text/plain": [
       "  Institution Gender mean_dif_bar\n",
       "1 1           0      -0.027075812\n",
       "2 1           1      -0.062819383\n",
       "3 10          0       0.036666667\n",
       "4 10          1       0.041538462\n",
       "5 11          0      -0.002857143\n",
       "6 11          1       0.083076923"
      ]
     },
     "metadata": {},
     "output_type": "display_data"
    }
   ],
   "source": [
    "df_gender_insti <- data_new %>% \n",
    "  group_by(Institution, Gender) %>% \n",
    "  summarise(mean_dif_bar = mean(dif_bar)) \n",
    "\n",
    "head(df_gender_insti)"
   ]
  },
  {
   "cell_type": "code",
   "execution_count": 41,
   "metadata": {
    "ExecuteTime": {
     "end_time": "2017-04-03T17:31:03.470989Z",
     "start_time": "2017-04-03T21:30:56.087Z"
    },
    "collapsed": false
   },
   "outputs": [
    {
     "data": {},
     "metadata": {},
     "output_type": "display_data"
    },
    {
     "data": {
      "image/png": "[encoded data removed]",
      "text/plain": [
       "plot without title"
      ]
     },
     "metadata": {},
     "output_type": "display_data"
    }
   ],
   "source": [
    "heatmap_gender_insti <- ggplot(data = df_gender_insti, \n",
    "       aes(x = Gender, y = Institution)) +\n",
    "  geom_tile(aes(fill = mean_dif_bar)) \n",
    "\n",
    "#set up a coloring scheme using colorRampPalette\n",
    "# x <- 1:255/255\n",
    "# c(x[34],x[143],x[200])    # test color \n",
    "red=rgb(0.95,0.45,0.1); green=rgb(0,1,0); blue=rgb(0.15,0.55,0.8); white=rgb(1,1,1); black=rgb(0,0,0)\n",
    "\n",
    "RtoWrange<-colorRampPalette(c(red, white ))\n",
    "WtoGrange<-colorRampPalette(c(white, blue)) \n",
    "\n",
    "heatmap_gender_insti <- heatmap_gender_insti + \n",
    "  scale_fill_gradient2(low=RtoWrange(100), mid=WtoGrange(100), high=\"gray\")\n",
    "\n",
    "heatmap_gender_insti"
   ]
  },
  {
   "cell_type": "markdown",
   "metadata": {},
   "source": [
    "Also, our client mentioned that the institution may play a role in the mean of differences. Hence, I create another heatmap to observe the two gender groups in each institution. \n",
    "\n",
    "It is interesting to find that we don't have any group that typically overestimate themselves. The male students in the Institution 4 and Institution 1 slightly overestimate their ability. It is also interesting to see that Institution A is the only school that has both male and female students overestimate themselves.\n"
   ]
  },
  {
   "cell_type": "markdown",
   "metadata": {
    "collapsed": false,
    "nbpresent": {
     "id": "32f542f0-17e4-4d7f-808f-7ed74540db33"
    }
   },
   "source": [
    "### Random guessing "
   ]
  },
  {
   "cell_type": "markdown",
   "metadata": {},
   "source": [
    "We will get 25% correct for the test if we do the random guessing.  \n",
    "Upper Tail test     \n",
    "$H_0: p <= 0.25$      \n",
    "$H_a: p > 0.25$      \n"
   ]
  },
  {
   "cell_type": "code",
   "execution_count": 42,
   "metadata": {
    "ExecuteTime": {
     "end_time": "2017-04-03T17:31:03.508016Z",
     "start_time": "2017-04-03T21:30:56.093Z"
    },
    "collapsed": false,
    "hide_input": true,
    "nbpresent": {
     "id": "d136f9e7-2a55-4162-8193-bac86e500225"
    },
    "run_control": {
     "frozen": false,
     "read_only": false
    }
   },
   "outputs": [],
   "source": [
    "sd = sqrt(3/4*1/4)/25\n",
    "xbar_randguess = mean(data_new$actual_SLCI) \n",
    "t_statistics = (xbar_randguess - 0.25)/(sd/sqrt(NN))  # < 1.646\n",
    "alpha = .05 \n",
    "t_alpha = qt(1−alpha, df=NN−1) "
   ]
  },
  {
   "cell_type": "markdown",
   "metadata": {
    "hide_input": true
   },
   "source": [
    "sd = 0.0173      \n",
    "xbar_randguess = 0.7354\n",
    "t_statistics = 943.822  \n",
    "t_alpha = 1.6461     \n",
    "\n",
    "The test statistic 943.8222 is greater than the critical value of 1.6462 Hence, at .05 significance level, we can reject the null hypothesis. The propobility is higher than 25%. It doesn't indicate random guessing. "
   ]
  },
  {
   "cell_type": "markdown",
   "metadata": {
    "nbpresent": {
     "id": "08cf6d8a-d048-4142-8c1c-7735e6612313"
    }
   },
   "source": [
    "### First 10 questions vs. Last 10 questions "
   ]
  },
  {
   "cell_type": "markdown",
   "metadata": {},
   "source": [
    "When I was doing the survey, I gradually lost my patience after finishing the first ten questions. I think it may be interesting to see if there is a significant difference between the first 10 and the last 10 questions. I drop the middle 5 question because the 15th question is a pretty tough one. It may cast some bias. "
   ]
  },
  {
   "cell_type": "code",
   "execution_count": 43,
   "metadata": {
    "ExecuteTime": {
     "end_time": "2017-04-03T17:31:03.632604Z",
     "start_time": "2017-04-03T21:30:56.099Z"
    },
    "collapsed": false,
    "hide_input": true,
    "nbpresent": {
     "id": "73201676-75de-4dc5-9e00-d58c0c45105e"
    },
    "run_control": {
     "frozen": false,
     "read_only": false
    }
   },
   "outputs": [
    {
     "data": {
      "image/png": "[encoded data removed]",
      "text/plain": [
       "Plot with title \"Histogram of data_new$dif_bar_last10\""
      ]
     },
     "metadata": {},
     "output_type": "display_data"
    }
   ],
   "source": [
    "# get dif_bar_first10, dif_bar_last15\n",
    "NN <- dim(data)[1]\n",
    "\n",
    "K_test_mat <- as.matrix(data[, 2:26])\n",
    "S_test_mat <- as.matrix(data[, 27:51])\n",
    "\n",
    "# calculate di: S - 0.5K\n",
    "dif_score_mat <- matrix(0, NN, 25)\n",
    "dif_score_mat <- S_test_mat - 0.5*K_test_mat\n",
    "\n",
    "dif_score_first10_mat <- dif_score_mat[,1:10]\n",
    "dif_score_last10_mat <- dif_score_mat[,15:25]\n",
    "\n",
    "dif_bar_first10 <- apply(dif_score_first10_mat, 1, mean, na.rm = TRUE)\n",
    "dif_bar_last10 <- apply(dif_score_last10_mat, 1, mean, na.rm = TRUE)\n",
    "\n",
    "data_new$dif_bar_first10 <- dif_bar_first10\n",
    "data_new$dif_bar_last10 <- dif_bar_last10\n",
    "\n",
    "par(mfrow = c(1, 2))\n",
    "hist(data_new$dif_bar_first10)\n",
    "hist(data_new$dif_bar_last10)"
   ]
  },
  {
   "cell_type": "code",
   "execution_count": 44,
   "metadata": {
    "ExecuteTime": {
     "end_time": "2017-04-03T17:31:03.952071Z",
     "start_time": "2017-04-03T21:30:56.104Z"
    },
    "collapsed": false,
    "hide_input": true,
    "nbpresent": {
     "id": "e8f2674d-b3ba-4ec4-9d82-8e084140ceea"
    },
    "run_control": {
     "frozen": false,
     "read_only": false
    }
   },
   "outputs": [
    {
     "data": {},
     "metadata": {},
     "output_type": "display_data"
    },
    {
     "data": {
      "image/png": "[encoded data removed]",
      "text/plain": [
       "plot without title"
      ]
     },
     "metadata": {},
     "output_type": "display_data"
    }
   ],
   "source": [
    "density_compare <- ggplot(data_new, aes(dif_bar_first10)) +\n",
    "  geom_density(col = \"skyblue\") + \n",
    "  geom_density(aes(dif_bar_last10), data = data_new, col = \"orange\") +\n",
    "  xlab(\"dif_bar: first 10 vs. last 10\") +\n",
    "  ggtitle(\"Comparing the dif_bar between first 10 (blue) and last 10 (orange)\")\n",
    "\n",
    "density_compare"
   ]
  },
  {
   "cell_type": "markdown",
   "metadata": {
    "nbpresent": {
     "id": "70742bd4-bba0-4a1d-aeb5-b6165cf0f631"
    }
   },
   "source": [
    "##### Test if the difference is significant? \n",
    "Is the difference significant ?            \n",
    "$H_0$: $\\mu_{10} = \\mu_{10}$       \n",
    "$H_a$: $\\mu_{10} \\neq \\mu_{10}$"
   ]
  },
  {
   "cell_type": "code",
   "execution_count": 45,
   "metadata": {
    "ExecuteTime": {
     "end_time": "2017-04-03T17:31:03.981597Z",
     "start_time": "2017-04-03T21:30:56.109Z"
    },
    "collapsed": false,
    "hide_input": true,
    "nbpresent": {
     "id": "ea7455a6-8c35-4b3d-8e7c-59c5b55aac21"
    },
    "run_control": {
     "frozen": false,
     "read_only": false
    }
   },
   "outputs": [
    {
     "data": {
      "text/plain": [
       "\n",
       "\tTwo Sample t-test\n",
       "\n",
       "data:  dif_bar_first10 and dif_bar_last10\n",
       "t = 8.176, df = 2248, p-value = 4.848e-16\n",
       "alternative hypothesis: true difference in means is not equal to 0\n",
       "95 percent confidence interval:\n",
       " 0.05604214 0.09140836\n",
       "sample estimates:\n",
       "  mean of x   mean of y \n",
       " 0.01586667 -0.05785859 \n"
      ]
     },
     "metadata": {},
     "output_type": "display_data"
    }
   ],
   "source": [
    "# two sample t test \n",
    "t.test(dif_bar_first10, dif_bar_last10,\n",
    "       alternative = \"two.sided\", var.equal=TRUE)"
   ]
  },
  {
   "cell_type": "markdown",
   "metadata": {
    "nbpresent": {
     "id": "2f79715e-6c7e-4f68-b158-36153d4bee74"
    }
   },
   "source": [
    "p-value = 7.446e-08 < 0.05     \n",
    "Since p value < 0.05, we reject $H_0$. The difference between the first 10 questions and 15 questions are significant. "
   ]
  },
  {
   "cell_type": "markdown",
   "metadata": {},
   "source": [
    "From the graph and the t test, we can conclude that the difference between the first 10 questions and the last 10 questions is significant at 95% confidence level. It may give us some inspiration in detecting random guessing.  "
   ]
  },
  {
   "cell_type": "markdown",
   "metadata": {},
   "source": [
    "### Correlation Heatmap"
   ]
  },
  {
   "cell_type": "code",
   "execution_count": 46,
   "metadata": {
    "ExecuteTime": {
     "end_time": "2017-04-03T17:31:04.303820Z",
     "start_time": "2017-04-03T21:30:56.115Z"
    },
    "collapsed": false
   },
   "outputs": [
    {
     "data": {},
     "metadata": {},
     "output_type": "display_data"
    },
    {
     "data": {
      "image/png": "[encoded data removed]",
      "text/plain": [
       "plot without title"
      ]
     },
     "metadata": {},
     "output_type": "display_data"
    }
   ],
   "source": [
    "data_cor <- data_new[, 9:14]\n",
    "qplot(x=Var1, y=Var2, data=melt(abs(cor(data_cor))), fill=value, geom=\"tile\")"
   ]
  },
  {
   "cell_type": "markdown",
   "metadata": {},
   "source": [
    "The above correlation heatmap illustrate the correlation between the 3 estimations, the knowledge test score, the actual test score and the difference between these two test scores.\n",
    "\n",
    "The lighter blue represents stronger correlation between the corresponding variables, and the darker color represents weaker correlation between the corresponding variables. "
   ]
  },
  {
   "cell_type": "markdown",
   "metadata": {
    "collapsed": true
   },
   "source": [
    "### SVM "
   ]
  },
  {
   "cell_type": "markdown",
   "metadata": {},
   "source": [
    "I also try to use machine learning -- support vector machine to predict whether the students overestimate, underestimate or correctly estimate themselves. Support Vector Machines are an excellent tool for classification, novelty detection, and regression.\n",
    "\n",
    "**Steps:** \n",
    "1. normalise the variables \n",
    "2. create the personality variable\n",
    "3. random sample a training data set, 600\n",
    "4. check each model's training error \n",
    "5. evalute the model with least training error, check the accuracy rate \n",
    "\n",
    "I tried polynomial model, Gaussian model, linear kernel, Laplace dot model and Laplacian kernel and check their training error. Among them. The Gaussian model has the lowest training error of 0.45. After evaluating the model with testing data, the accuracy rate is around 0.51, which is higher than random guessing, 0.33. However, this method works, but doesn’t seem to be very effective. \n",
    "\n",
    "If you want to see the R documentation for ksvm, click [ksvm](https://www.rdocumentation.org/packages/kernlab/versions/0.9-25/topics/ksvm). "
   ]
  },
  {
   "cell_type": "markdown",
   "metadata": {
    "ExecuteTime": {
     "end_time": "2017-04-03T03:32:49.270423Z",
     "start_time": "2017-04-03T07:32:42.506Z"
    }
   },
   "source": [
    "##### Create a new variable that categorize the dif_bar => Under-estimate, Normal, Over-estimate"
   ]
  },
  {
   "cell_type": "code",
   "execution_count": 47,
   "metadata": {
    "ExecuteTime": {
     "end_time": "2017-04-03T17:31:04.341849Z",
     "start_time": "2017-04-03T21:30:56.124Z"
    },
    "collapsed": false
   },
   "outputs": [
    {
     "data": {
      "text/html": [
       "240"
      ],
      "text/latex": [
       "240"
      ],
      "text/markdown": [
       "240"
      ],
      "text/plain": [
       "[1] 240"
      ]
     },
     "metadata": {},
     "output_type": "display_data"
    },
    {
     "data": {
      "text/html": [
       "510"
      ],
      "text/latex": [
       "510"
      ],
      "text/markdown": [
       "510"
      ],
      "text/plain": [
       "[1] 510"
      ]
     },
     "metadata": {},
     "output_type": "display_data"
    },
    {
     "data": {
      "text/html": [
       "289"
      ],
      "text/latex": [
       "289"
      ],
      "text/markdown": [
       "289"
      ],
      "text/plain": [
       "[1] 289"
      ]
     },
     "metadata": {},
     "output_type": "display_data"
    }
   ],
   "source": [
    "sum(data_new$dif_bar > 0.1)    # underestimate\n",
    "sum(data_new$dif_bar > -0.1 & data_new$dif_bar < 0.1)   \n",
    "sum(data_new$dif_bar < -0.1)   # overestimate "
   ]
  },
  {
   "cell_type": "code",
   "execution_count": 48,
   "metadata": {
    "ExecuteTime": {
     "end_time": "2017-04-03T17:31:04.379874Z",
     "start_time": "2017-04-03T21:30:56.130Z"
    },
    "collapsed": false
   },
   "outputs": [
    {
     "data": {
      "text/plain": [
       "\n",
       "        Normal  Over-estimate Under-estimate \n",
       "           510            289            240 "
      ]
     },
     "metadata": {},
     "output_type": "display_data"
    }
   ],
   "source": [
    "data_new$personality <- NULL\n",
    "data_new$personality[data_new$dif_bar > 0.1] <- \"Under-estimate\" \n",
    "data_new$personality[data_new$dif_bar > -0.1 & data_new$dif_bar < 0.1] <- \"Normal\" \n",
    "data_new$personality[data_new$dif_bar < -0.1] <- \"Over-estimate\" \n",
    "\n",
    "table(data_new$personality)"
   ]
  },
  {
   "cell_type": "code",
   "execution_count": 49,
   "metadata": {
    "ExecuteTime": {
     "end_time": "2017-04-03T17:31:04.427908Z",
     "start_time": "2017-04-03T21:30:56.135Z"
    },
    "collapsed": false
   },
   "outputs": [],
   "source": [
    "normalise <- function(x) {\n",
    "  return((x - min(x)) / (max(x) - min(x)))  # subtract the min value in x and divide by the range of values in x.\n",
    "}\n",
    "\n",
    "data_new$Gender <- normalise(as.numeric(data_new$Gender))\n",
    "data_new$first_generation <- normalise(as.numeric(data_new$first_generation))\n",
    "data_new$major_science <- normalise(as.numeric(data_new$major_science))\n",
    "data_new$class_rank <- normalise(as.numeric(data_new$class_rank))\n",
    "data_new$courses_in_science <- normalise(as.numeric(data_new$courses_in_science))\n",
    "data_new$english_as_first_language <- normalise(as.numeric(data_new$english_as_first_language))\n",
    "data_new$Ethnicity <- normalise(as.numeric(data_new$Ethnicity))\n",
    "data_new$Institution <- normalise(as.numeric(data_new$Institution))"
   ]
  },
  {
   "cell_type": "code",
   "execution_count": 50,
   "metadata": {
    "ExecuteTime": {
     "end_time": "2017-04-03T17:31:04.458931Z",
     "start_time": "2017-04-03T21:30:56.140Z"
    },
    "collapsed": false
   },
   "outputs": [],
   "source": [
    "# generate training data \n",
    "train <- sample(x = nrow(data_new), size = 600, replace = FALSE) "
   ]
  },
  {
   "cell_type": "markdown",
   "metadata": {},
   "source": [
    "##### Polynomial"
   ]
  },
  {
   "cell_type": "code",
   "execution_count": 51,
   "metadata": {
    "ExecuteTime": {
     "end_time": "2017-04-03T17:31:04.564004Z",
     "start_time": "2017-04-03T21:30:56.146Z"
    },
    "collapsed": false
   },
   "outputs": [
    {
     "name": "stdout",
     "output_type": "stream",
     "text": [
      " Setting default kernel parameters  \n"
     ]
    },
    {
     "data": {
      "text/plain": [
       "Support Vector Machine object of class \"ksvm\" \n",
       "\n",
       "SV type: C-svc  (classification) \n",
       " parameter : cost C = 1 \n",
       "\n",
       "Polynomial kernel function. \n",
       " Hyperparameters : degree =  1  scale =  1  offset =  1 \n",
       "\n",
       "Number of Support Vectors : 489 \n",
       "\n",
       "Objective Function Value : -296 -272 -228.8845 \n",
       "Training error : 0.515426 "
      ]
     },
     "metadata": {},
     "output_type": "display_data"
    }
   ],
   "source": [
    "m_poly <- ksvm(personality ~ Gender + first_generation + major_science + class_rank \n",
    "               + courses_in_science + english_as_first_language + Ethnicity + Institution,\n",
    "          data = data_new[train, ],\n",
    "          kernel = \"polydot\", C = 1)\n",
    "\n",
    "m_poly"
   ]
  },
  {
   "cell_type": "markdown",
   "metadata": {},
   "source": [
    "##### Radial Basis kernel \"Gaussian\" "
   ]
  },
  {
   "cell_type": "code",
   "execution_count": 52,
   "metadata": {
    "ExecuteTime": {
     "end_time": "2017-04-03T17:31:04.691598Z",
     "start_time": "2017-04-03T21:30:56.151Z"
    },
    "collapsed": false
   },
   "outputs": [
    {
     "data": {
      "text/plain": [
       "Support Vector Machine object of class \"ksvm\" \n",
       "\n",
       "SV type: C-svc  (classification) \n",
       " parameter : cost C = 1 \n",
       "\n",
       "Gaussian Radial Basis kernel function. \n",
       " Hyperparameter : sigma =  0.115411961064223 \n",
       "\n",
       "Number of Support Vectors : 498 \n",
       "\n",
       "Objective Function Value : -279.9903 -250.4338 -196.9958 \n",
       "Training error : 0.455535 "
      ]
     },
     "metadata": {},
     "output_type": "display_data"
    }
   ],
   "source": [
    "m_rad <- ksvm(personality ~ Gender + first_generation + major_science + class_rank \n",
    "               + courses_in_science + english_as_first_language + Ethnicity + Institution,\n",
    "          data = data_new[train, ],\n",
    "          kernel = \"rbfdot\", C = 1)\n",
    "m_rad"
   ]
  },
  {
   "cell_type": "markdown",
   "metadata": {},
   "source": [
    "##### Linear kernel "
   ]
  },
  {
   "cell_type": "code",
   "execution_count": 53,
   "metadata": {
    "ExecuteTime": {
     "end_time": "2017-04-03T17:31:04.758141Z",
     "start_time": "2017-04-03T21:30:56.156Z"
    },
    "collapsed": false
   },
   "outputs": [
    {
     "name": "stdout",
     "output_type": "stream",
     "text": [
      " Setting default kernel parameters  \n"
     ]
    },
    {
     "data": {
      "text/plain": [
       "Support Vector Machine object of class \"ksvm\" \n",
       "\n",
       "SV type: C-svc  (classification) \n",
       " parameter : cost C = 1 \n",
       "\n",
       "Linear (vanilla) kernel function. \n",
       "\n",
       "Number of Support Vectors : 493 \n",
       "\n",
       "Objective Function Value : -296 -272 -228.8845 \n",
       "Training error : 0.515426 "
      ]
     },
     "metadata": {},
     "output_type": "display_data"
    }
   ],
   "source": [
    "m_vanilladot <- ksvm(personality ~ Gender + first_generation + major_science + class_rank \n",
    "               + courses_in_science + english_as_first_language + Ethnicity + Institution,\n",
    "          data = data_new[train, ],\n",
    "          kernel = \"vanilladot\", C = 1)\n",
    "m_vanilladot"
   ]
  },
  {
   "cell_type": "markdown",
   "metadata": {},
   "source": [
    "##### Laplacian kernel "
   ]
  },
  {
   "cell_type": "code",
   "execution_count": 54,
   "metadata": {
    "ExecuteTime": {
     "end_time": "2017-04-03T17:31:04.934267Z",
     "start_time": "2017-04-03T21:30:56.161Z"
    },
    "collapsed": false
   },
   "outputs": [
    {
     "data": {
      "text/plain": [
       "Support Vector Machine object of class \"ksvm\" \n",
       "\n",
       "SV type: C-svc  (classification) \n",
       " parameter : cost C = 1 \n",
       "\n",
       "Laplace kernel function. \n",
       " Hyperparameter : sigma =  0.12136258800997 \n",
       "\n",
       "Number of Support Vectors : 507 \n",
       "\n",
       "Objective Function Value : -282.96 -256.2679 -211.5326 \n",
       "Training error : 0.511797 "
      ]
     },
     "metadata": {},
     "output_type": "display_data"
    }
   ],
   "source": [
    "m_laplacedot <- ksvm(personality ~ Gender + first_generation + major_science + class_rank \n",
    "               + courses_in_science + english_as_first_language + Ethnicity + Institution,\n",
    "          data = data_new[train, ],\n",
    "          kernel = \"laplacedot\", C = 1)\n",
    "m_laplacedot"
   ]
  },
  {
   "cell_type": "markdown",
   "metadata": {},
   "source": [
    "#### Evaluate the model "
   ]
  },
  {
   "cell_type": "markdown",
   "metadata": {},
   "source": [
    "##### Radial Basis kernel \"Gaussian\" "
   ]
  },
  {
   "cell_type": "code",
   "execution_count": 55,
   "metadata": {
    "ExecuteTime": {
     "end_time": "2017-04-03T17:31:05.021328Z",
     "start_time": "2017-04-03T21:30:56.166Z"
    },
    "collapsed": false
   },
   "outputs": [
    {
     "data": {
      "text/plain": [
       "Confusion Matrix and Statistics\n",
       "\n",
       "                \n",
       "pred1            Normal Over-estimate Under-estimate\n",
       "  Normal            220           126             77\n",
       "  Over-estimate      11             4              4\n",
       "  Under-estimate     12            11             23\n",
       "\n",
       "Overall Statistics\n",
       "                                          \n",
       "               Accuracy : 0.5061          \n",
       "                 95% CI : (0.4608, 0.5514)\n",
       "    No Information Rate : 0.498           \n",
       "    P-Value [Acc > NIR] : 0.3757          \n",
       "                                          \n",
       "                  Kappa : 0.0804          \n",
       " Mcnemar's Test P-Value : <2e-16          \n",
       "\n",
       "Statistics by Class:\n",
       "\n",
       "                     Class: Normal Class: Over-estimate Class: Under-estimate\n",
       "Sensitivity                 0.9053             0.028369               0.22115\n",
       "Specificity                 0.1714             0.956772               0.94010\n",
       "Pos Pred Value              0.5201             0.210526               0.50000\n",
       "Neg Pred Value              0.6462             0.707889               0.81674\n",
       "Prevalence                  0.4980             0.288934               0.21311\n",
       "Detection Rate              0.4508             0.008197               0.04713\n",
       "Detection Prevalence        0.8668             0.038934               0.09426\n",
       "Balanced Accuracy           0.5384             0.492571               0.58063"
      ]
     },
     "metadata": {},
     "output_type": "display_data"
    }
   ],
   "source": [
    "pred1 <- predict(m_rad, newdata = data_new[-train, ], type = \"response\")\n",
    "\n",
    "confusionMatrix(table(pred1, data_new[-train, \"personality\"]), positive = \"small\") "
   ]
  },
  {
   "cell_type": "markdown",
   "metadata": {},
   "source": [
    "##### laplacedot model "
   ]
  },
  {
   "cell_type": "code",
   "execution_count": 56,
   "metadata": {
    "ExecuteTime": {
     "end_time": "2017-04-03T17:31:05.282514Z",
     "start_time": "2017-04-03T21:30:56.171Z"
    },
    "collapsed": false
   },
   "outputs": [
    {
     "data": {
      "text/plain": [
       "Confusion Matrix and Statistics\n",
       "\n",
       "                \n",
       "pred2            Normal Over-estimate Under-estimate\n",
       "  Normal            242           141            102\n",
       "  Over-estimate       0             0              0\n",
       "  Under-estimate      1             0              2\n",
       "\n",
       "Overall Statistics\n",
       "                                          \n",
       "               Accuracy : 0.5             \n",
       "                 95% CI : (0.4547, 0.5453)\n",
       "    No Information Rate : 0.498           \n",
       "    P-Value [Acc > NIR] : 0.4819          \n",
       "                                          \n",
       "                  Kappa : 0.0075          \n",
       " Mcnemar's Test P-Value : NA              \n",
       "\n",
       "Statistics by Class:\n",
       "\n",
       "                     Class: Normal Class: Over-estimate Class: Under-estimate\n",
       "Sensitivity               0.995885               0.0000              0.019231\n",
       "Specificity               0.008163               1.0000              0.997396\n",
       "Pos Pred Value            0.498969                  NaN              0.666667\n",
       "Neg Pred Value            0.666667               0.7111              0.789691\n",
       "Prevalence                0.497951               0.2889              0.213115\n",
       "Detection Rate            0.495902               0.0000              0.004098\n",
       "Detection Prevalence      0.993852               0.0000              0.006148\n",
       "Balanced Accuracy         0.502024               0.5000              0.508313"
      ]
     },
     "metadata": {},
     "output_type": "display_data"
    }
   ],
   "source": [
    "pred2 <- predict(m_laplacedot, newdata = data_new[-train, ], type = \"response\")\n",
    "\n",
    "confusionMatrix(table(pred2, data_new[-train, \"personality\"]), positive = \"small\") "
   ]
  },
  {
   "cell_type": "markdown",
   "metadata": {},
   "source": [
    "It turn out that Radial Basis kernel is the better model. The accuracy rate is around 0.5086. It is higher than random guessing (0.33), but the result is not good enough. "
   ]
  },
  {
   "cell_type": "markdown",
   "metadata": {},
   "source": [
    "## Conclusion "
   ]
  },
  {
   "cell_type": "markdown",
   "metadata": {},
   "source": [
    "After using bootstrap, we can conclude that people are more likely to overestimate themselves. Our data exhibit support for a Dunny-Kruger Effect. It would be better if we can collect more data of professors and graduate students to be more confident. \n",
    "\n",
    "Gender, class rank and science major are significant factors for dif_bar. Also, the difference between the first 10 and last 10 questions is significant. \n",
    "\n",
    "We may need more data for professors and graduate students in order to make better conclusion. Also, we may consider include the family income as additional vaiables. \n"
   ]
  }
 ],
 "metadata": {
  "anaconda-cloud": {},
  "hide_input": false,
  "kernelspec": {
   "display_name": "R",
   "language": "R",
   "name": "ir"
  },
  "language_info": {
   "codemirror_mode": "r",
   "file_extension": ".r",
   "mimetype": "text/x-r-source",
   "name": "R",
   "pygments_lexer": "r",
   "version": "3.3.2"
  },
  "nbpresent": {
   "slides": {
    "032c80ae-cd33-4785-a255-ae744e8a3d92": {
     "id": "032c80ae-cd33-4785-a255-ae744e8a3d92",
     "prev": "a2b246e0-de09-4bcb-a42c-bf796aafb8c1",
     "regions": {
      "2c67285d-c5a2-4a4f-a2e0-b3a717530fae": {
       "attrs": {
        "height": 0.8,
        "width": 0.8,
        "x": 0.1,
        "y": 0.1
       },
       "content": {
        "cell": "2aa2a78a-a0c7-4861-8d0b-646f5412a36a",
        "part": "whole"
       },
       "id": "2c67285d-c5a2-4a4f-a2e0-b3a717530fae"
      }
     }
    },
    "07622ab8-645c-49fe-bb32-6474604746a9": {
     "id": "07622ab8-645c-49fe-bb32-6474604746a9",
     "prev": "4f8296e7-9eee-4275-a57e-93653b9c1074",
     "regions": {
      "7c8ecb10-ad91-44e5-b8c0-7665d852b708": {
       "attrs": {
        "height": 0.8,
        "width": 0.8,
        "x": 0.1,
        "y": 0.1
       },
       "content": {
        "cell": "22accc2f-db8b-40d5-8b35-ce66b567a9da",
        "part": "whole"
       },
       "id": "7c8ecb10-ad91-44e5-b8c0-7665d852b708"
      }
     }
    },
    "0acb9117-52f3-4873-af82-ae7764c25fa0": {
     "id": "0acb9117-52f3-4873-af82-ae7764c25fa0",
     "prev": "a6f814e5-779c-45fc-8784-14aa5deb1255",
     "regions": {
      "2446bb68-58f1-409e-af34-77a3775e34f9": {
       "attrs": {
        "height": 0.8,
        "width": 0.8,
        "x": 0.1,
        "y": 0.1
       },
       "content": {
        "cell": "4e4502d1-44ff-47f4-9dee-14379a8b0008",
        "part": "whole"
       },
       "id": "2446bb68-58f1-409e-af34-77a3775e34f9"
      }
     }
    },
    "105cc603-f80a-4764-9ac5-5a5cf3eea973": {
     "id": "105cc603-f80a-4764-9ac5-5a5cf3eea973",
     "prev": "6c742d18-1933-4d1f-b34d-e78c6807b382",
     "regions": {
      "fc776727-2215-468c-8e2f-5d1dd62bfc80": {
       "attrs": {
        "height": 0.8,
        "width": 0.8,
        "x": 0.1,
        "y": 0.1
       },
       "content": {
        "cell": "bdde109d-bd96-4214-82cd-b5bff02fb7e7",
        "part": "source"
       },
       "id": "fc776727-2215-468c-8e2f-5d1dd62bfc80"
      }
     }
    },
    "144c4384-747f-4726-9f5f-0aae2271cf7a": {
     "id": "144c4384-747f-4726-9f5f-0aae2271cf7a",
     "prev": "3485bd22-7f9e-468d-a17b-e355a408c52c",
     "regions": {
      "19ec69a8-e3b7-4789-a825-724e80d64c7d": {
       "attrs": {
        "height": 0.8,
        "width": 0.8,
        "x": 0.1,
        "y": 0.1
       },
       "content": {
        "cell": "966f6e30-b9c9-4ecb-b8a3-81ee024cfd57",
        "part": "whole"
       },
       "id": "19ec69a8-e3b7-4789-a825-724e80d64c7d"
      }
     }
    },
    "178e9916-5fe8-4c97-a30b-f108a6880940": {
     "id": "178e9916-5fe8-4c97-a30b-f108a6880940",
     "prev": "37354d7a-d02f-49f1-a3f6-d4f511aefb94",
     "regions": {
      "5ea57191-4987-419d-ae94-acd806b4a36c": {
       "attrs": {
        "height": 0.8,
        "width": 0.8,
        "x": 0.1,
        "y": 0.1
       },
       "content": {
        "cell": "32f542f0-17e4-4d7f-808f-7ed74540db33",
        "part": "whole"
       },
       "id": "5ea57191-4987-419d-ae94-acd806b4a36c"
      }
     }
    },
    "1eaa0424-dcc8-4ca9-af13-c0c14ac5e365": {
     "id": "1eaa0424-dcc8-4ca9-af13-c0c14ac5e365",
     "prev": "b1873830-dac1-4467-8969-d1a4e8296c62",
     "regions": {
      "081a0906-4114-46cc-b250-3b59c7b42bc3": {
       "attrs": {
        "height": 0.8,
        "width": 0.8,
        "x": 0.1,
        "y": 0.1
       },
       "content": {
        "cell": "fa0350d5-4427-4c37-8589-2e02c3f8e38c",
        "part": "whole"
       },
       "id": "081a0906-4114-46cc-b250-3b59c7b42bc3"
      }
     }
    },
    "212200df-7c54-49b8-ab91-dce275fef274": {
     "id": "212200df-7c54-49b8-ab91-dce275fef274",
     "prev": "4104f4cc-f98f-4681-9b44-5d137529f4fb",
     "regions": {
      "7c2ac768-2aaa-4417-a76b-020aaa645b5d": {
       "attrs": {
        "height": 0.8,
        "width": 0.8,
        "x": 0.1,
        "y": 0.1
       },
       "content": {
        "cell": "279c7b1b-38ee-44d1-818e-e408019e1770",
        "part": "whole"
       },
       "id": "7c2ac768-2aaa-4417-a76b-020aaa645b5d"
      }
     }
    },
    "3485bd22-7f9e-468d-a17b-e355a408c52c": {
     "id": "3485bd22-7f9e-468d-a17b-e355a408c52c",
     "prev": "9ff5d070-a428-4368-a2ca-7fb9c847ea82",
     "regions": {
      "9e00c3de-d249-4e8b-9b15-694d59163269": {
       "attrs": {
        "height": 0.8,
        "width": 0.8,
        "x": 0.1,
        "y": 0.1
       },
       "content": {
        "cell": "ea971c77-a141-40ad-b85d-e365eae5916d",
        "part": "whole"
       },
       "id": "9e00c3de-d249-4e8b-9b15-694d59163269"
      }
     }
    },
    "36cf00d8-94de-4899-99cc-1052ae5886f2": {
     "id": "36cf00d8-94de-4899-99cc-1052ae5886f2",
     "prev": "07622ab8-645c-49fe-bb32-6474604746a9",
     "regions": {
      "ab814790-b66e-4800-9f8d-0f982aaa57f8": {
       "attrs": {
        "height": 0.8,
        "width": 0.8,
        "x": 0.1,
        "y": 0.1
       },
       "content": {
        "cell": "5e4a84a7-aa82-4cc6-823f-fbba629b3712",
        "part": "whole"
       },
       "id": "ab814790-b66e-4800-9f8d-0f982aaa57f8"
      }
     }
    },
    "37354d7a-d02f-49f1-a3f6-d4f511aefb94": {
     "id": "37354d7a-d02f-49f1-a3f6-d4f511aefb94",
     "prev": "0acb9117-52f3-4873-af82-ae7764c25fa0",
     "regions": {
      "0d56e5ed-b3f3-433f-bbf2-87b4ac1d1bea": {
       "attrs": {
        "height": 0.8,
        "width": 0.8,
        "x": 0.1,
        "y": 0.1
       },
       "content": {
        "cell": "04c6e0bb-ecf4-419e-a709-4bb2a757b974",
        "part": "whole"
       },
       "id": "0d56e5ed-b3f3-433f-bbf2-87b4ac1d1bea"
      }
     }
    },
    "39a0af8a-e63e-40aa-b1b3-700476b78d4c": {
     "id": "39a0af8a-e63e-40aa-b1b3-700476b78d4c",
     "prev": "a677a86a-55a4-41e9-ad7e-e1b9abe1ee06",
     "regions": {
      "c95c6a5f-081b-4e0c-aba9-a49629ab175b": {
       "attrs": {
        "height": 0.8,
        "width": 0.8,
        "x": 0.1,
        "y": 0.1
       },
       "content": {
        "cell": "2cb9403e-ec5a-4aa3-967c-70b719d24ea8",
        "part": "whole"
       },
       "id": "c95c6a5f-081b-4e0c-aba9-a49629ab175b"
      }
     }
    },
    "3f2465e4-8b20-4680-ad84-b2595ba5a1c4": {
     "id": "3f2465e4-8b20-4680-ad84-b2595ba5a1c4",
     "prev": "e8cb18f5-b4e8-4ed4-8e31-a094fc9e5a5b",
     "regions": {
      "87ddf378-c9e1-40e0-be0f-b8ab4e36fb11": {
       "attrs": {
        "height": 0.8,
        "width": 0.8,
        "x": 0.1,
        "y": 0.1
       },
       "content": {
        "cell": "08cf6d8a-d048-4142-8c1c-7735e6612313",
        "part": "whole"
       },
       "id": "87ddf378-c9e1-40e0-be0f-b8ab4e36fb11"
      }
     }
    },
    "40c50629-cde8-486a-97ef-df53ff028c4d": {
     "id": "40c50629-cde8-486a-97ef-df53ff028c4d",
     "prev": "724b58a7-bf25-4d83-ba8a-bce32ddf9008",
     "regions": {}
    },
    "4104f4cc-f98f-4681-9b44-5d137529f4fb": {
     "id": "4104f4cc-f98f-4681-9b44-5d137529f4fb",
     "prev": "dbd0b8e0-b141-4ca4-b616-cf899513d7e8",
     "regions": {
      "d42df02a-9fdf-4ee0-ba49-03df878d7ce9": {
       "attrs": {
        "height": 0.8,
        "width": 0.8,
        "x": 0.1,
        "y": 0.1
       },
       "content": {
        "cell": "cd8053b7-c209-466f-90f0-c4c6dd89ba42",
        "part": "whole"
       },
       "id": "d42df02a-9fdf-4ee0-ba49-03df878d7ce9"
      }
     }
    },
    "4306ec46-da0f-4a98-8de1-c5bf41f51bd6": {
     "id": "4306ec46-da0f-4a98-8de1-c5bf41f51bd6",
     "prev": "f2be3ce7-75d6-4fe4-a313-3445e4dbcbcc",
     "regions": {
      "336f89d6-49c6-4e3b-ba4b-5c7916c6c81e": {
       "attrs": {
        "height": 0.8,
        "width": 0.8,
        "x": 0.1,
        "y": 0.1
       },
       "content": {
        "cell": "99269f75-e9a9-4fbb-b1f7-3097eadc55e2",
        "part": "whole"
       },
       "id": "336f89d6-49c6-4e3b-ba4b-5c7916c6c81e"
      }
     }
    },
    "43ec50d4-798e-40d4-b6b5-ab950485e60d": {
     "id": "43ec50d4-798e-40d4-b6b5-ab950485e60d",
     "prev": "36cf00d8-94de-4899-99cc-1052ae5886f2",
     "regions": {
      "46d3772c-ddd7-430a-8bba-c51a866d69d2": {
       "attrs": {
        "height": 0.8,
        "width": 0.8,
        "x": 0.1,
        "y": 0.1
       },
       "content": {
        "cell": "b6b0208e-4d70-4397-a020-eee83d35ae56",
        "part": "whole"
       },
       "id": "46d3772c-ddd7-430a-8bba-c51a866d69d2"
      }
     }
    },
    "47872a99-fc0d-45c3-9143-cd6ebdd2a32c": {
     "id": "47872a99-fc0d-45c3-9143-cd6ebdd2a32c",
     "prev": "f67c9712-d97d-4f1a-b183-73c1a6b3a3ed",
     "regions": {
      "aabbba3a-1b6d-4c8f-81bd-151289bfa133": {
       "attrs": {
        "height": 0.8,
        "width": 0.8,
        "x": 0.1,
        "y": 0.1
       },
       "content": {
        "cell": "911897ce-61c8-4ee7-b1c4-3ea99f99efa5",
        "part": "whole"
       },
       "id": "aabbba3a-1b6d-4c8f-81bd-151289bfa133"
      }
     }
    },
    "4f8296e7-9eee-4275-a57e-93653b9c1074": {
     "id": "4f8296e7-9eee-4275-a57e-93653b9c1074",
     "prev": "a28dee4f-14f8-456b-ad72-3ab678250b49",
     "regions": {
      "4c99483d-5405-4734-8295-94b57ee8868a": {
       "attrs": {
        "height": 0.8,
        "width": 0.8,
        "x": 0.1,
        "y": 0.1
       },
       "content": {
        "cell": "70f85721-e456-4495-a0d8-cb57b0548ef3",
        "part": "whole"
       },
       "id": "4c99483d-5405-4734-8295-94b57ee8868a"
      }
     }
    },
    "52f00854-a37c-4fa6-9554-29d0ea0b5ff4": {
     "id": "52f00854-a37c-4fa6-9554-29d0ea0b5ff4",
     "prev": "144c4384-747f-4726-9f5f-0aae2271cf7a",
     "regions": {
      "08d75851-9290-42ba-b307-918e1d188e12": {
       "attrs": {
        "height": 0.8,
        "width": 0.8,
        "x": 0.1,
        "y": 0.1
       },
       "content": {
        "cell": "5bd9f192-e21b-404c-b26b-601408b5b5d8",
        "part": "whole"
       },
       "id": "08d75851-9290-42ba-b307-918e1d188e12"
      }
     }
    },
    "5400a6df-935f-4a3a-b9f3-574428c24a96": {
     "id": "5400a6df-935f-4a3a-b9f3-574428c24a96",
     "prev": "9d6434c7-4276-46cc-8b18-f26c28815f65",
     "regions": {
      "2f22e7f7-b59e-41ba-852d-536de387b884": {
       "attrs": {
        "height": 0.8,
        "width": 0.8,
        "x": 0.1,
        "y": 0.1
       },
       "content": {
        "cell": "337c4839-d8fa-4d73-b9aa-387e28ed147a",
        "part": "whole"
       },
       "id": "2f22e7f7-b59e-41ba-852d-536de387b884"
      }
     }
    },
    "568188b1-886b-4c75-bf4e-ef43e1e85074": {
     "id": "568188b1-886b-4c75-bf4e-ef43e1e85074",
     "prev": "3f2465e4-8b20-4680-ad84-b2595ba5a1c4",
     "regions": {
      "bfa2b0ff-86f2-4544-b119-2b276097e23e": {
       "attrs": {
        "height": 0.8,
        "width": 0.8,
        "x": 0.1,
        "y": 0.1
       },
       "content": {
        "cell": "73201676-75de-4dc5-9e00-d58c0c45105e",
        "part": "whole"
       },
       "id": "bfa2b0ff-86f2-4544-b119-2b276097e23e"
      }
     }
    },
    "5a055ad8-ea20-4fb5-872a-3ba8a5ac1195": {
     "id": "5a055ad8-ea20-4fb5-872a-3ba8a5ac1195",
     "prev": "985745ca-f5dc-4d1b-9ec1-6ede4cff8a01",
     "regions": {
      "f0a32780-006b-4f98-878b-25ef3a16fe5d": {
       "attrs": {
        "height": 0.8,
        "width": 0.8,
        "x": 0.1,
        "y": 0.1
       },
       "content": {
        "cell": "8c56bfa0-a5c2-4227-8a9d-7e958a3c6556",
        "part": "whole"
       },
       "id": "f0a32780-006b-4f98-878b-25ef3a16fe5d"
      }
     }
    },
    "5a3eb5b6-ebbc-4901-b313-1bb255158fd5": {
     "id": "5a3eb5b6-ebbc-4901-b313-1bb255158fd5",
     "prev": "8eb0c640-2660-4ebf-ba21-e654cf568016",
     "regions": {
      "86c17186-d007-4eee-b6c1-74ce093568cc": {
       "attrs": {
        "height": 0.8,
        "width": 0.8,
        "x": 0.1,
        "y": 0.1
       },
       "content": {
        "cell": "ea7455a6-8c35-4b3d-8e7c-59c5b55aac21",
        "part": "whole"
       },
       "id": "86c17186-d007-4eee-b6c1-74ce093568cc"
      }
     }
    },
    "5faaf020-c495-48a2-84f4-20e493d83ed9": {
     "id": "5faaf020-c495-48a2-84f4-20e493d83ed9",
     "prev": "c9d8ed9b-3836-4911-899a-f9022291c8c1",
     "regions": {
      "3ab17442-3ca4-4dd3-8990-a57e3e88554d": {
       "attrs": {
        "height": 0.8,
        "width": 0.8,
        "x": 0.1,
        "y": 0.1
       },
       "content": {
        "cell": "e7531d67-a1d7-4a31-b366-204050604e38",
        "part": "whole"
       },
       "id": "3ab17442-3ca4-4dd3-8990-a57e3e88554d"
      }
     }
    },
    "5fe50801-0da3-49d1-b383-6bad4c5efe90": {
     "id": "5fe50801-0da3-49d1-b383-6bad4c5efe90",
     "prev": "47872a99-fc0d-45c3-9143-cd6ebdd2a32c",
     "regions": {
      "88a86a11-e30f-4b06-8db7-5b4edc2cd305": {
       "attrs": {
        "height": 0.8,
        "width": 0.8,
        "x": 0.1,
        "y": 0.1
       },
       "content": {
        "cell": "57885a10-279f-44a6-b7b0-bb725e5eb780",
        "part": "whole"
       },
       "id": "88a86a11-e30f-4b06-8db7-5b4edc2cd305"
      }
     }
    },
    "6c742d18-1933-4d1f-b34d-e78c6807b382": {
     "id": "6c742d18-1933-4d1f-b34d-e78c6807b382",
     "prev": "ce46627a-9c0f-4a34-af50-375aeb1d5d61",
     "regions": {
      "6ef81ee5-e35e-4570-a069-eabdefe8e104": {
       "attrs": {
        "height": 0.8,
        "width": 0.8,
        "x": 0.1,
        "y": 0.1
       },
       "content": {
        "cell": "c086750e-2930-469b-9b81-e5f8e6c3e26a",
        "part": "whole"
       },
       "id": "6ef81ee5-e35e-4570-a069-eabdefe8e104"
      }
     }
    },
    "724b58a7-bf25-4d83-ba8a-bce32ddf9008": {
     "id": "724b58a7-bf25-4d83-ba8a-bce32ddf9008",
     "prev": "d0f0f904-5ecc-4462-9e6f-8bfd609ee402",
     "regions": {
      "7335c6d3-c1f7-4dbe-93e9-a583cb97b661": {
       "attrs": {
        "height": 0.8,
        "width": 0.8,
        "x": 0.1,
        "y": 0.1
       },
       "content": {
        "cell": "d63110b8-e559-43ff-9a91-f374115abc57",
        "part": "outputs"
       },
       "id": "7335c6d3-c1f7-4dbe-93e9-a583cb97b661"
      }
     }
    },
    "7e65c2fa-9f54-491d-bc6f-4b5d86b71503": {
     "id": "7e65c2fa-9f54-491d-bc6f-4b5d86b71503",
     "prev": "5fe50801-0da3-49d1-b383-6bad4c5efe90",
     "regions": {
      "7fe534d6-1c8c-4cff-8634-5a27c4795379": {
       "attrs": {
        "height": 0.8,
        "width": 0.8,
        "x": 0.1,
        "y": 0.1
       },
       "content": {
        "cell": "55f4f118-efb4-4512-a549-eb7457fccb3b",
        "part": "whole"
       },
       "id": "7fe534d6-1c8c-4cff-8634-5a27c4795379"
      }
     }
    },
    "8eb0c640-2660-4ebf-ba21-e654cf568016": {
     "id": "8eb0c640-2660-4ebf-ba21-e654cf568016",
     "prev": "99074c9a-4a01-463c-b324-e3b4605bcf1a",
     "regions": {
      "bd317375-8db5-4f9c-916a-6a2309126c2a": {
       "attrs": {
        "height": 0.8,
        "width": 0.8,
        "x": 0.1,
        "y": 0.1
       },
       "content": {
        "cell": "70742bd4-bba0-4a1d-aeb5-b6165cf0f631",
        "part": "whole"
       },
       "id": "bd317375-8db5-4f9c-916a-6a2309126c2a"
      }
     }
    },
    "985745ca-f5dc-4d1b-9ec1-6ede4cff8a01": {
     "id": "985745ca-f5dc-4d1b-9ec1-6ede4cff8a01",
     "prev": "40c50629-cde8-486a-97ef-df53ff028c4d",
     "regions": {
      "dfe3a878-9b89-4a86-94e7-aed796fb6f6b": {
       "attrs": {
        "height": 0.8,
        "width": 0.8,
        "x": 0.1,
        "y": 0.1
       },
       "content": {
        "cell": "bdde109d-bd96-4214-82cd-b5bff02fb7e7",
        "part": "whole"
       },
       "id": "dfe3a878-9b89-4a86-94e7-aed796fb6f6b"
      }
     }
    },
    "99074c9a-4a01-463c-b324-e3b4605bcf1a": {
     "id": "99074c9a-4a01-463c-b324-e3b4605bcf1a",
     "prev": "568188b1-886b-4c75-bf4e-ef43e1e85074",
     "regions": {
      "435e021c-4629-4ad8-89b4-d8bbced054fe": {
       "attrs": {
        "height": 0.8,
        "width": 0.8,
        "x": 0.1,
        "y": 0.1
       },
       "content": {
        "cell": "e8f2674d-b3ba-4ec4-9d82-8e084140ceea",
        "part": "whole"
       },
       "id": "435e021c-4629-4ad8-89b4-d8bbced054fe"
      }
     }
    },
    "9d6434c7-4276-46cc-8b18-f26c28815f65": {
     "id": "9d6434c7-4276-46cc-8b18-f26c28815f65",
     "prev": "f67445a4-4e33-4d8c-8aab-3a22e11ae577",
     "regions": {
      "2f07b0d2-6822-4850-bf03-517e64f92483": {
       "attrs": {
        "height": 0.8,
        "width": 0.8,
        "x": 0.1,
        "y": 0.1
       },
       "content": {
        "cell": "75c392f8-0e63-48e8-9165-397b6f1a60c1",
        "part": "whole"
       },
       "id": "2f07b0d2-6822-4850-bf03-517e64f92483"
      }
     }
    },
    "9ff5d070-a428-4368-a2ca-7fb9c847ea82": {
     "id": "9ff5d070-a428-4368-a2ca-7fb9c847ea82",
     "prev": "5a055ad8-ea20-4fb5-872a-3ba8a5ac1195",
     "regions": {
      "ae75415c-5c70-4b6b-b18d-80d1b52b6c1e": {
       "attrs": {
        "height": 0.8,
        "width": 0.8,
        "x": 0.1,
        "y": 0.1
       },
       "content": {
        "cell": "4d4cd9bc-a52b-4a2f-ab0c-58bde61e0743",
        "part": "whole"
       },
       "id": "ae75415c-5c70-4b6b-b18d-80d1b52b6c1e"
      }
     }
    },
    "a26caa4e-f4ed-49c8-8177-6390587f9563": {
     "id": "a26caa4e-f4ed-49c8-8177-6390587f9563",
     "prev": "b5905702-cf15-440b-b5ef-3acf04879c07",
     "regions": {}
    },
    "a28dee4f-14f8-456b-ad72-3ab678250b49": {
     "id": "a28dee4f-14f8-456b-ad72-3ab678250b49",
     "prev": "d331330f-08ac-4f82-9c7e-273dd754cdd6",
     "regions": {
      "bf3fbecc-ba08-449a-8119-4d9081668266": {
       "attrs": {
        "height": 0.8,
        "width": 0.8,
        "x": 0.1,
        "y": 0.1
       },
       "content": {
        "cell": "ffe3ec36-5afc-49b9-afeb-f5620d879817",
        "part": "whole"
       },
       "id": "bf3fbecc-ba08-449a-8119-4d9081668266"
      }
     }
    },
    "a2b246e0-de09-4bcb-a42c-bf796aafb8c1": {
     "id": "a2b246e0-de09-4bcb-a42c-bf796aafb8c1",
     "prev": "f061454f-47c3-4e19-989f-e65e9a80b528",
     "regions": {
      "1c48a85f-6c9a-4ae3-978d-517cb01b2999": {
       "attrs": {
        "height": 0.8,
        "width": 0.8,
        "x": 0.1,
        "y": 0.1
       },
       "content": {
        "cell": "ce78e6b5-0c72-465b-973d-625c263bad38",
        "part": "whole"
       },
       "id": "1c48a85f-6c9a-4ae3-978d-517cb01b2999"
      }
     }
    },
    "a677a86a-55a4-41e9-ad7e-e1b9abe1ee06": {
     "id": "a677a86a-55a4-41e9-ad7e-e1b9abe1ee06",
     "prev": "7e65c2fa-9f54-491d-bc6f-4b5d86b71503",
     "regions": {
      "20d38f39-091e-45c2-859d-f9f3fe291415": {
       "attrs": {
        "height": 0.8,
        "width": 0.8,
        "x": 0.1,
        "y": 0.1
       },
       "content": {
        "cell": "801b0800-49e4-4637-abb9-9a687ae4710b",
        "part": "whole"
       },
       "id": "20d38f39-091e-45c2-859d-f9f3fe291415"
      }
     }
    },
    "a6f814e5-779c-45fc-8784-14aa5deb1255": {
     "id": "a6f814e5-779c-45fc-8784-14aa5deb1255",
     "prev": "5faaf020-c495-48a2-84f4-20e493d83ed9",
     "regions": {
      "1b939f1d-4364-4800-a16e-cca9d812284b": {
       "attrs": {
        "height": 0.8,
        "width": 0.8,
        "x": 0.1,
        "y": 0.1
       },
       "content": {
        "cell": "83e95ae3-5051-4fcf-8be1-9446ac37241d",
        "part": "whole"
       },
       "id": "1b939f1d-4364-4800-a16e-cca9d812284b"
      }
     }
    },
    "b1873830-dac1-4467-8969-d1a4e8296c62": {
     "id": "b1873830-dac1-4467-8969-d1a4e8296c62",
     "prev": "d6f6b58b-8608-45eb-bdd0-1d32d7c3c8ef",
     "regions": {
      "144d2295-7544-46d7-8aac-680e9af44d5b": {
       "attrs": {
        "height": 0.8,
        "width": 0.8,
        "x": 0.1,
        "y": 0.1
       },
       "content": {
        "cell": "2326efaa-8e60-454b-92a1-346dc360a5c0",
        "part": "whole"
       },
       "id": "144d2295-7544-46d7-8aac-680e9af44d5b"
      }
     }
    },
    "b5905702-cf15-440b-b5ef-3acf04879c07": {
     "id": "b5905702-cf15-440b-b5ef-3acf04879c07",
     "prev": "4306ec46-da0f-4a98-8de1-c5bf41f51bd6",
     "regions": {
      "cc72e6b8-2b60-4aa1-98ad-9f78a64c59fb": {
       "attrs": {
        "height": 0.8,
        "width": 0.8,
        "x": 0.1,
        "y": 0.1
       },
       "content": {
        "cell": "eed60e39-e2bd-44d2-8e36-d4e7588dc951",
        "part": "whole"
       },
       "id": "cc72e6b8-2b60-4aa1-98ad-9f78a64c59fb"
      }
     }
    },
    "be16f103-8c47-4756-8ee8-585933750053": {
     "id": "be16f103-8c47-4756-8ee8-585933750053",
     "prev": "105cc603-f80a-4764-9ac5-5a5cf3eea973",
     "regions": {
      "1b8ca586-357d-43ee-a33c-1e10c9613c56": {
       "attrs": {
        "height": 0.8,
        "width": 0.8,
        "x": 0.1,
        "y": 0.1
       },
       "content": {
        "cell": "a6a147ef-d546-490a-b5c9-80d35edc58b0",
        "part": "source"
       },
       "id": "1b8ca586-357d-43ee-a33c-1e10c9613c56"
      }
     }
    },
    "c9d8ed9b-3836-4911-899a-f9022291c8c1": {
     "id": "c9d8ed9b-3836-4911-899a-f9022291c8c1",
     "prev": "032c80ae-cd33-4785-a255-ae744e8a3d92",
     "regions": {
      "25fcdc65-3bc3-48ef-bd56-512d1a30f08f": {
       "attrs": {
        "height": 0.8,
        "width": 0.8,
        "x": 0.1,
        "y": 0.1
       },
       "content": {
        "cell": "0d8acb89-2f25-4e6c-ab75-ab06c3a57826",
        "part": "whole"
       },
       "id": "25fcdc65-3bc3-48ef-bd56-512d1a30f08f"
      }
     }
    },
    "ce46627a-9c0f-4a34-af50-375aeb1d5d61": {
     "id": "ce46627a-9c0f-4a34-af50-375aeb1d5d61",
     "prev": "52f00854-a37c-4fa6-9554-29d0ea0b5ff4",
     "regions": {
      "8723bc11-5f1f-4a3e-ab94-3e533051faeb": {
       "attrs": {
        "height": 0.8,
        "width": 0.8,
        "x": 0.1,
        "y": 0.1
       },
       "content": {
        "cell": "5bd9f192-e21b-404c-b26b-601408b5b5d8",
        "part": "source"
       },
       "id": "8723bc11-5f1f-4a3e-ab94-3e533051faeb"
      }
     }
    },
    "d0f0f904-5ecc-4462-9e6f-8bfd609ee402": {
     "id": "d0f0f904-5ecc-4462-9e6f-8bfd609ee402",
     "prev": "5400a6df-935f-4a3a-b9f3-574428c24a96",
     "regions": {
      "6392a2c2-e9f2-4a2d-8451-20681bc860a5": {
       "attrs": {
        "height": 0.8,
        "width": 0.8,
        "x": 0.1,
        "y": 0.1
       },
       "content": {
        "cell": "94030d92-053f-421d-ac5b-f03951b84ae3",
        "part": "whole"
       },
       "id": "6392a2c2-e9f2-4a2d-8451-20681bc860a5"
      }
     }
    },
    "d331330f-08ac-4f82-9c7e-273dd754cdd6": {
     "id": "d331330f-08ac-4f82-9c7e-273dd754cdd6",
     "prev": "39a0af8a-e63e-40aa-b1b3-700476b78d4c",
     "regions": {
      "9c1afb48-3f77-452d-92e4-c570bceb8667": {
       "attrs": {
        "height": 0.8,
        "width": 0.8,
        "x": 0.1,
        "y": 0.1
       },
       "content": {
        "cell": "a86b7b8c-1e74-4e1f-a2cd-88b844ac04d5",
        "part": "whole"
       },
       "id": "9c1afb48-3f77-452d-92e4-c570bceb8667"
      }
     }
    },
    "d336cef1-89fb-4bd7-a5c6-36053ea3622e": {
     "id": "d336cef1-89fb-4bd7-a5c6-36053ea3622e",
     "prev": "1eaa0424-dcc8-4ca9-af13-c0c14ac5e365",
     "regions": {
      "8f4f182d-84c1-4209-8014-f71cd2b040a9": {
       "attrs": {
        "height": 0.8,
        "width": 0.8,
        "x": 0.1,
        "y": 0.1
       },
       "content": {
        "cell": "892d3166-f2d8-4502-b335-1b43e4e3dfc1",
        "part": "whole"
       },
       "id": "8f4f182d-84c1-4209-8014-f71cd2b040a9"
      }
     }
    },
    "d6f6b58b-8608-45eb-bdd0-1d32d7c3c8ef": {
     "id": "d6f6b58b-8608-45eb-bdd0-1d32d7c3c8ef",
     "prev": "a26caa4e-f4ed-49c8-8177-6390587f9563",
     "regions": {
      "8a019612-b620-412b-98c1-2fddd986ef00": {
       "attrs": {
        "height": 0.8,
        "width": 0.8,
        "x": 0.1,
        "y": 0.1
       },
       "content": {
        "cell": "56472090-2fa6-43ca-b78b-7b09ad4fe462",
        "part": "whole"
       },
       "id": "8a019612-b620-412b-98c1-2fddd986ef00"
      }
     }
    },
    "dbd0b8e0-b141-4ca4-b616-cf899513d7e8": {
     "id": "dbd0b8e0-b141-4ca4-b616-cf899513d7e8",
     "prev": "5a3eb5b6-ebbc-4901-b313-1bb255158fd5",
     "regions": {
      "1ddb2057-6100-401e-a356-90c0731fa3d0": {
       "attrs": {
        "height": 0.8,
        "width": 0.8,
        "x": 0.1,
        "y": 0.1
       },
       "content": {
        "cell": "2f79715e-6c7e-4f68-b158-36153d4bee74",
        "part": "whole"
       },
       "id": "1ddb2057-6100-401e-a356-90c0731fa3d0"
      }
     }
    },
    "e8cb18f5-b4e8-4ed4-8e31-a094fc9e5a5b": {
     "id": "e8cb18f5-b4e8-4ed4-8e31-a094fc9e5a5b",
     "prev": "178e9916-5fe8-4c97-a30b-f108a6880940",
     "regions": {
      "a058ab7a-565d-47e4-b947-a55e70ace81b": {
       "attrs": {
        "height": 0.8,
        "width": 0.8,
        "x": 0.1,
        "y": 0.1
       },
       "content": {
        "cell": "d136f9e7-2a55-4162-8193-bac86e500225",
        "part": "whole"
       },
       "id": "a058ab7a-565d-47e4-b947-a55e70ace81b"
      }
     }
    },
    "f061454f-47c3-4e19-989f-e65e9a80b528": {
     "id": "f061454f-47c3-4e19-989f-e65e9a80b528",
     "prev": "d336cef1-89fb-4bd7-a5c6-36053ea3622e",
     "regions": {
      "fceaaf5b-84aa-4ff2-b42b-956bff4fff50": {
       "attrs": {
        "height": 0.8,
        "width": 0.8,
        "x": 0.1,
        "y": 0.1
       },
       "content": {
        "cell": "5dd1445a-df6b-4e80-9b28-146212b606c9",
        "part": "whole"
       },
       "id": "fceaaf5b-84aa-4ff2-b42b-956bff4fff50"
      }
     }
    },
    "f2be3ce7-75d6-4fe4-a313-3445e4dbcbcc": {
     "id": "f2be3ce7-75d6-4fe4-a313-3445e4dbcbcc",
     "prev": "43ec50d4-798e-40d4-b6b5-ab950485e60d",
     "regions": {
      "19d67842-ce31-452b-a36e-0d1676934643": {
       "attrs": {
        "height": 0.8,
        "width": 0.8,
        "x": 0.1,
        "y": 0.1
       },
       "content": {
        "cell": "976a6f9b-b333-441a-b542-35d6e898a788",
        "part": "whole"
       },
       "id": "19d67842-ce31-452b-a36e-0d1676934643"
      }
     }
    },
    "f67445a4-4e33-4d8c-8aab-3a22e11ae577": {
     "id": "f67445a4-4e33-4d8c-8aab-3a22e11ae577",
     "prev": null,
     "regions": {
      "586c89ca-22c8-4e32-95ee-8e440b732b78": {
       "attrs": {
        "height": 0.8,
        "width": 0.8,
        "x": 0.1,
        "y": 0.1
       },
       "content": {
        "cell": "6189124c-49d1-4d86-af38-6f57afe471a8",
        "part": "whole"
       },
       "id": "586c89ca-22c8-4e32-95ee-8e440b732b78"
      }
     }
    },
    "f67c9712-d97d-4f1a-b183-73c1a6b3a3ed": {
     "id": "f67c9712-d97d-4f1a-b183-73c1a6b3a3ed",
     "prev": "be16f103-8c47-4756-8ee8-585933750053",
     "regions": {
      "bd7777b5-08fb-4708-bb03-ec1364658c75": {
       "attrs": {
        "height": 0.8,
        "width": 0.8,
        "x": 0.1,
        "y": 0.1
       },
       "content": {
        "cell": "d63110b8-e559-43ff-9a91-f374115abc57",
        "part": "whole"
       },
       "id": "bd7777b5-08fb-4708-bb03-ec1364658c75"
      }
     }
    }
   },
   "themes": {
    "default": "912876ca-3c59-4f95-ac0d-30ab2e033515",
    "theme": {}
   }
  },
  "toc": {
   "nav_menu": {
    "height": "321px",
    "width": "251px"
   },
   "navigate_menu": true,
   "number_sections": true,
   "sideBar": true,
   "threshold": 4,
   "toc_cell": false,
   "toc_section_display": "block",
   "toc_window_display": true
  }
 },
 "nbformat": 4,
 "nbformat_minor": 1
}
